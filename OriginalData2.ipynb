{
 "cells": [
  {
   "cell_type": "code",
   "execution_count": 3,
   "metadata": {
    "colab": {
     "base_uri": "https://localhost:8080/"
    },
    "id": "QscbUpVCRayl",
    "outputId": "263c2509-d453-4186-b902-9e11b055e375"
   },
   "outputs": [
    {
     "name": "stdout",
     "output_type": "stream",
     "text": [
      "Drive already mounted at /content/drive; to attempt to forcibly remount, call drive.mount(\"/content/drive\", force_remount=True).\n"
     ]
    }
   ],
   "source": [
    "from google.colab import drive\n",
    "drive.mount('/content/drive')"
   ]
  },
  {
   "cell_type": "code",
   "execution_count": 5,
   "metadata": {
    "colab": {
     "base_uri": "https://localhost:8080/"
    },
    "id": "9Zq8G7vLRaym",
    "outputId": "61de06c5-9d61-42d8-9fa4-6bea21b9f6ab"
   },
   "outputs": [
    {
     "name": "stdout",
     "output_type": "stream",
     "text": [
      "Found 6066 images belonging to 7 classes.\n"
     ]
    }
   ],
   "source": [
    "import numpy as np\n",
    "from keras import layers\n",
    "from keras.layers import Input, Dense, Activation,BatchNormalization, Flatten, Conv2D, MaxPooling2D\n",
    "from keras.models import Model\n",
    "from keras.layers import Dropout\n",
    "from keras.preprocessing import image\n",
    "from keras.preprocessing.image import ImageDataGenerator\n",
    "import tensorflow as tf\n",
    "import keras.backend as K\n",
    "tf.keras.backend.set_image_data_format('channels_last')\n",
    "path = '/content/drive/MyDrive/new/base_dir2/train_dir2'\n",
    "train_datagen = ImageDataGenerator(rescale=1. / 255)\n",
    "train = train_datagen.flow_from_directory(path, target_size=(64,64), class_mode='categorical')"
   ]
  },
  {
   "cell_type": "code",
   "execution_count": 7,
   "metadata": {
    "id": "59Ct1ZY5Raym"
   },
   "outputs": [],
   "source": [
    "import cv2\n",
    "import os\n",
    "import numpy as np\n",
    "import pandas as pd\n",
    "import os\n",
    "from glob import glob\n",
    "import seaborn as sns\n",
    "from PIL import Image\n",
    "np.random.seed(123)\n",
    "from sklearn.preprocessing import label_binarize\n",
    "from sklearn.metrics import confusion_matrix\n",
    "import itertools\n",
    "\n",
    "import keras\n",
    "from keras.utils.np_utils import to_categorical # used for converting labels to one-hot-encoding\n",
    "from keras.models import Sequential\n",
    "from keras.layers import Dense, Dropout, Flatten, Conv2D, MaxPool2D\n",
    "from keras import backend as K\n",
    "import itertools\n",
    "from keras.layers.normalization import BatchNormalization\n",
    "from keras.utils.np_utils import to_categorical # convert to one-hot-encoding\n",
    "\n",
    "from keras.optimizers import Adam\n",
    "from keras.optimizers import SGD\n",
    "from keras.optimizers import Adadelta\n",
    "from keras.preprocessing.image import ImageDataGenerator\n",
    "from keras.callbacks import ReduceLROnPlateau\n",
    "from sklearn.model_selection import train_test_split"
   ]
  },
  {
   "cell_type": "code",
   "execution_count": 8,
   "metadata": {
    "id": "8GzCHR64Rayn"
   },
   "outputs": [],
   "source": [
    "%matplotlib inline\n",
    "import matplotlib.pyplot as plt"
   ]
  },
  {
   "cell_type": "code",
   "execution_count": 9,
   "metadata": {
    "colab": {
     "base_uri": "https://localhost:8080/"
    },
    "id": "cwSi_0yDRayn",
    "outputId": "74d211cb-18eb-4fb9-b00d-4b5d56d8c2dd"
   },
   "outputs": [
    {
     "name": "stdout",
     "output_type": "stream",
     "text": [
      "Batch Size for Input Image :  (32, 64, 64, 3)\n",
      "Batch Size for Output Image :  (32, 7)\n",
      "Image Size of first image :  (64, 64, 3)\n",
      "Output of first image :  (7,)\n"
     ]
    }
   ],
   "source": [
    "print(\"Batch Size for Input Image : \",train[0][0].shape)\n",
    "print(\"Batch Size for Output Image : \",train[0][1].shape)\n",
    "print(\"Image Size of first image : \",train[0][0][0].shape)\n",
    "print(\"Output of first image : \",train[0][1][0].shape)"
   ]
  },
  {
   "cell_type": "code",
   "execution_count": 17,
   "metadata": {
    "id": "xffD9XAoRayn"
   },
   "outputs": [],
   "source": [
    "# Our input feature map is 64x64x3: 64x64 for the image pixels, and 3 for\n",
    "# the three color channels: R, G, and B\n",
    "\n",
    "img_input = layers.Input(shape=(64, 64, 3))\n",
    "\n",
    "# First convolution extracts 16 filters that are 3x3\n",
    "# Convolution is followed by max-pooling layer with a 2x2 window\n",
    "x = layers.Conv2D(16, 3, activation='relu', padding='same')(img_input)\n",
    "x = layers.MaxPooling2D(2)(x)\n",
    "\n",
    "# Second convolution extracts 32 filters that are 3x3\n",
    "# Convolution is followed by max-pooling layer with a 2x2 window\n",
    "x = layers.Conv2D(32, 3, activation='relu', padding='same')(x)\n",
    "x = layers.MaxPooling2D(2)(x)\n",
    "\n",
    "# Third convolution extracts 64 filters that are 3x3\n",
    "# Convolution is followed by max-pooling layer with a 2x2 window\n",
    "x = layers.Convolution2D(64, 3, activation='relu', padding='same')(x)\n",
    "x = layers.MaxPooling2D(2)(x)\n",
    "\n",
    "# Fourth convolution extracts 128 filters that are 3x3\n",
    "# Convolution is followed by max-pooling layer with a 2x2 window\n",
    "x = layers.Convolution2D(128, 3, activation='relu', padding='same')(x)\n",
    "x = layers.MaxPooling2D(2)(x)\n",
    "\n",
    "# Flatten feature map to a 1-dim tensor\n",
    "x = layers.Flatten()(x)\n",
    "\n",
    "# Create a fully connected layer with ReLU activation and 512 hidden units\n",
    "x = layers.Dense(512, activation='relu')(x)\n",
    "\n",
    "# Add a dropout rate of 0.5\n",
    "x = layers.Dropout(0.5)(x)\n",
    "\n",
    "# Create a fully connected layer with ReLU activation and 512 hidden units\n",
    "#x = layers.Dense(512, activation='relu')(x)\n",
    "\n",
    "# Add a dropout rate of 0.5\n",
    "#x = layers.Dropout(0.5)(x)\n",
    "\n",
    "# Create output layer with a single node and sigmoid activation\n",
    "output = layers.Dense(7, activation='softmax')(x)\n",
    "\n",
    "# Configure and compile the model\n",
    "model = Model(img_input, output)\n",
    "\n",
    "#optimizer = Adadelta(lr=0.001,rho=0.95,epsilon=1e-07)\n",
    "optimizer = Adam(lr=0.001, beta_1=0.9, beta_2=0.999, epsilon=None, decay=0.0, amsgrad=False)\n",
    "#optimizer =SGD(lr=0.001)\n",
    "\n",
    "model.compile(loss='categorical_crossentropy', optimizer=optimizer, metrics=['accuracy'])"
   ]
  },
  {
   "cell_type": "code",
   "execution_count": 18,
   "metadata": {
    "colab": {
     "base_uri": "https://localhost:8080/"
    },
    "id": "B1k0-uqSRayn",
    "outputId": "2585e22d-e8dc-400c-eb5b-5861e2edefb3"
   },
   "outputs": [
    {
     "name": "stdout",
     "output_type": "stream",
     "text": [
      "Model: \"functional_3\"\n",
      "_________________________________________________________________\n",
      "Layer (type)                 Output Shape              Param #   \n",
      "=================================================================\n",
      "input_2 (InputLayer)         [(None, 64, 64, 3)]       0         \n",
      "_________________________________________________________________\n",
      "conv2d_4 (Conv2D)            (None, 64, 64, 16)        448       \n",
      "_________________________________________________________________\n",
      "max_pooling2d_4 (MaxPooling2 (None, 32, 32, 16)        0         \n",
      "_________________________________________________________________\n",
      "conv2d_5 (Conv2D)            (None, 32, 32, 32)        4640      \n",
      "_________________________________________________________________\n",
      "max_pooling2d_5 (MaxPooling2 (None, 16, 16, 32)        0         \n",
      "_________________________________________________________________\n",
      "conv2d_6 (Conv2D)            (None, 16, 16, 64)        18496     \n",
      "_________________________________________________________________\n",
      "max_pooling2d_6 (MaxPooling2 (None, 8, 8, 64)          0         \n",
      "_________________________________________________________________\n",
      "conv2d_7 (Conv2D)            (None, 8, 8, 128)         73856     \n",
      "_________________________________________________________________\n",
      "max_pooling2d_7 (MaxPooling2 (None, 4, 4, 128)         0         \n",
      "_________________________________________________________________\n",
      "flatten_1 (Flatten)          (None, 2048)              0         \n",
      "_________________________________________________________________\n",
      "dense_2 (Dense)              (None, 512)               1049088   \n",
      "_________________________________________________________________\n",
      "dropout_1 (Dropout)          (None, 512)               0         \n",
      "_________________________________________________________________\n",
      "dense_3 (Dense)              (None, 7)                 3591      \n",
      "=================================================================\n",
      "Total params: 1,150,119\n",
      "Trainable params: 1,150,119\n",
      "Non-trainable params: 0\n",
      "_________________________________________________________________\n"
     ]
    }
   ],
   "source": [
    "model.summary()"
   ]
  },
  {
   "cell_type": "code",
   "execution_count": 19,
   "metadata": {
    "id": "Q52iMlvMRayn"
   },
   "outputs": [],
   "source": [
    "learning_rate_reduction = ReduceLROnPlateau(monitor='val_accuracy', patience=3, verbose=1, factor=0.5, min_lr=0.00001)"
   ]
  },
  {
   "cell_type": "code",
   "execution_count": 14,
   "metadata": {
    "colab": {
     "base_uri": "https://localhost:8080/"
    },
    "id": "t6E1JV6DRayn",
    "outputId": "631dea1d-7e9d-4a62-d91f-73060d9ce174"
   },
   "outputs": [
    {
     "name": "stdout",
     "output_type": "stream",
     "text": [
      "Found 2028 images belonging to 7 classes.\n"
     ]
    }
   ],
   "source": [
    "val_path = '/content/drive/MyDrive/new/base_dir2/test_dir2/val_dir2'\n",
    "val_datagen = ImageDataGenerator(rescale=1. / 255)\n",
    "val = val_datagen.flow_from_directory(val_path, target_size=(64,64), class_mode='categorical')"
   ]
  },
  {
   "cell_type": "code",
   "execution_count": 15,
   "metadata": {
    "colab": {
     "base_uri": "https://localhost:8080/"
    },
    "id": "NN58Y1UiRayn",
    "outputId": "2de5ba8e-f886-41dc-a0c2-b7c2bfc72eef"
   },
   "outputs": [
    {
     "name": "stdout",
     "output_type": "stream",
     "text": [
      "Found 2037 images belonging to 7 classes.\n"
     ]
    }
   ],
   "source": [
    "#testing\n",
    "path_test = '/content/drive/MyDrive/new/base_dir2/test_dir2/testing_dir2'\n",
    "test_datagen = ImageDataGenerator(rescale=1. / 255)\n",
    "test = test_datagen.flow_from_directory(path_test, target_size=(64,64), class_mode='categorical')"
   ]
  },
  {
   "cell_type": "code",
   "execution_count": 20,
   "metadata": {
    "colab": {
     "base_uri": "https://localhost:8080/"
    },
    "id": "OW8uNMwfRayn",
    "outputId": "06a39aad-075c-4599-ede7-70a6334fc43b"
   },
   "outputs": [
    {
     "name": "stdout",
     "output_type": "stream",
     "text": [
      "Epoch 1/20\n",
      "190/190 [==============================] - 121s 638ms/step - loss: 1.0477 - accuracy: 0.6705 - val_loss: 0.9366 - val_accuracy: 0.6711\n",
      "Epoch 2/20\n",
      "190/190 [==============================] - 119s 625ms/step - loss: 0.9019 - accuracy: 0.6766 - val_loss: 0.8685 - val_accuracy: 0.6686\n",
      "Epoch 3/20\n",
      "190/190 [==============================] - 119s 625ms/step - loss: 0.8508 - accuracy: 0.6881 - val_loss: 0.8323 - val_accuracy: 0.6903\n",
      "Epoch 4/20\n",
      "190/190 [==============================] - 118s 622ms/step - loss: 0.8175 - accuracy: 0.7082 - val_loss: 0.8069 - val_accuracy: 0.6943\n",
      "Epoch 5/20\n",
      "190/190 [==============================] - 119s 628ms/step - loss: 0.7780 - accuracy: 0.7128 - val_loss: 0.7807 - val_accuracy: 0.7066\n",
      "Epoch 6/20\n",
      "190/190 [==============================] - 118s 622ms/step - loss: 0.7538 - accuracy: 0.7206 - val_loss: 0.7994 - val_accuracy: 0.7046\n",
      "Epoch 7/20\n",
      "190/190 [==============================] - 117s 618ms/step - loss: 0.7206 - accuracy: 0.7334 - val_loss: 0.7787 - val_accuracy: 0.7209\n",
      "Epoch 8/20\n",
      "190/190 [==============================] - 118s 621ms/step - loss: 0.6895 - accuracy: 0.7432 - val_loss: 0.7394 - val_accuracy: 0.7318\n",
      "Epoch 9/20\n",
      "190/190 [==============================] - 120s 634ms/step - loss: 0.6656 - accuracy: 0.7506 - val_loss: 0.7237 - val_accuracy: 0.7377\n",
      "Epoch 10/20\n",
      "190/190 [==============================] - 122s 644ms/step - loss: 0.6372 - accuracy: 0.7628 - val_loss: 0.7388 - val_accuracy: 0.7431\n",
      "Epoch 11/20\n",
      "190/190 [==============================] - 120s 631ms/step - loss: 0.5991 - accuracy: 0.7717 - val_loss: 0.7191 - val_accuracy: 0.7510\n",
      "Epoch 12/20\n",
      "190/190 [==============================] - 118s 621ms/step - loss: 0.5680 - accuracy: 0.7868 - val_loss: 0.7269 - val_accuracy: 0.7515\n",
      "Epoch 13/20\n",
      "190/190 [==============================] - 118s 620ms/step - loss: 0.5501 - accuracy: 0.7956 - val_loss: 0.7263 - val_accuracy: 0.7500\n",
      "Epoch 14/20\n",
      "190/190 [==============================] - 119s 624ms/step - loss: 0.5257 - accuracy: 0.8055 - val_loss: 0.7128 - val_accuracy: 0.7564\n",
      "Epoch 15/20\n",
      "190/190 [==============================] - 120s 629ms/step - loss: 0.4738 - accuracy: 0.8248 - val_loss: 0.7238 - val_accuracy: 0.7510\n",
      "Epoch 16/20\n",
      "190/190 [==============================] - 119s 627ms/step - loss: 0.4328 - accuracy: 0.8383 - val_loss: 0.7784 - val_accuracy: 0.7539\n",
      "Epoch 17/20\n",
      "190/190 [==============================] - ETA: 0s - loss: 0.4099 - accuracy: 0.8460\n",
      "Epoch 00017: ReduceLROnPlateau reducing learning rate to 0.0005000000237487257.\n",
      "190/190 [==============================] - 119s 628ms/step - loss: 0.4099 - accuracy: 0.8460 - val_loss: 0.7949 - val_accuracy: 0.7421\n",
      "Epoch 18/20\n",
      "190/190 [==============================] - 120s 631ms/step - loss: 0.3041 - accuracy: 0.8899 - val_loss: 0.8060 - val_accuracy: 0.7608\n",
      "Epoch 19/20\n",
      "190/190 [==============================] - 120s 632ms/step - loss: 0.2601 - accuracy: 0.9021 - val_loss: 0.8309 - val_accuracy: 0.7554\n",
      "Epoch 20/20\n",
      "190/190 [==============================] - 121s 638ms/step - loss: 0.2348 - accuracy: 0.9131 - val_loss: 0.8765 - val_accuracy: 0.7668\n"
     ]
    }
   ],
   "source": [
    "#using learning rate reduction,one additional layer and res 64x64,epochs=20\n",
    "history=model.fit(train,epochs=20,validation_data=(val),callbacks=[learning_rate_reduction])"
   ]
  },
  {
   "cell_type": "code",
   "execution_count": 29,
   "metadata": {
    "colab": {
     "base_uri": "https://localhost:8080/",
     "height": 311
    },
    "id": "QobcuACVRayn",
    "outputId": "b5d9fdfa-0b51-4b34-ea3f-2872e63e5936"
   },
   "outputs": [
    {
     "data": {
      "image/png": "[encoded data removed]",
      "text/plain": [
       "<Figure size 432x288 with 2 Axes>"
      ]
     },
     "metadata": {
      "needs_background": "light",
      "tags": []
     },
     "output_type": "display_data"
    }
   ],
   "source": [
    "def plot_confusion_matrix2(cm, classes,\n",
    "                          normalize=False,\n",
    "                          title='Confusion matrix',\n",
    "                          cmap=plt.cm.Blues):\n",
    "    \"\"\"\n",
    "    This function prints and plots the confusion matrix.\n",
    "    Normalization can be applied by setting `normalize=True`.\n",
    "    \"\"\"\n",
    "    plt.imshow(cm, interpolation='nearest', cmap=cmap)\n",
    "    plt.title(title)\n",
    "    plt.colorbar()\n",
    "    tick_marks = np.arange(len(classes))\n",
    "    plt.xticks(tick_marks, classes, rotation=45)\n",
    "    plt.yticks(tick_marks, classes)\n",
    "\n",
    "    if normalize:\n",
    "        cm = cm.astype('float') / cm.sum(axis=1)[:, np.newaxis]\n",
    "\n",
    "    thresh = cm.max() / 2.\n",
    "    for i, j in itertools.product(range(cm.shape[0]), range(cm.shape[1])):\n",
    "        plt.text(j, i, cm[i, j],\n",
    "                 horizontalalignment=\"center\",\n",
    "                 color=\"white\" if cm[i, j] > thresh else \"black\")\n",
    "\n",
    "    plt.tight_layout()\n",
    "    plt.ylabel('True label')\n",
    "    plt.xlabel('Predicted label')\n",
    "\n",
    "# Predict the values from the validation dataset\n",
    "#Y_pred = model.predict(test)\n",
    "# Convert predictions classes to one hot vectors \n",
    "#Y_pred_classes = np.argmax(Y_pred,axis = 1) \n",
    "# Convert validation observations to one hot vectors\n",
    "#Y_true = np.argmax(y_test,axis = 1) \n",
    "# compute the confusion matrix\n",
    "#confusion_mtx = confusion_matrix(Y_true, Y_pred_classes)\n",
    "\n",
    " \n",
    "\n",
    "# plot the confusion matrix\n",
    "plot_confusion_matrix2(cm1, classes = range(7))"
   ]
  },
  {
   "cell_type": "code",
   "execution_count": 23,
   "metadata": {
    "colab": {
     "base_uri": "https://localhost:8080/",
     "height": 584
    },
    "id": "ubxNp_ZXRayn",
    "outputId": "39a3c89b-0edb-4ed3-9dfe-7dd4ecca64a6"
   },
   "outputs": [
    {
     "name": "stdout",
     "output_type": "stream",
     "text": [
      "64/64 [==============================] - 495s 8s/step\n"
     ]
    },
    {
     "data": {
      "image/png": "[encoded data removed]",
      "text/plain": [
       "<Figure size 432x288 with 2 Axes>"
      ]
     },
     "metadata": {
      "needs_background": "light",
      "tags": []
     },
     "output_type": "display_data"
    },
    {
     "name": "stdout",
     "output_type": "stream",
     "text": [
      "Confusion: [[   1    6    2    1    5   47    3]\n",
      " [   2    2    7    0    8   82    2]\n",
      " [   7    9   21    1   21  160    1]\n",
      " [   0    2    5    0    7    9    0]\n",
      " [   5   11   23    1   12  166    4]\n",
      " [  27   79  119    8   84 1024   26]\n",
      " [   0    1    5    0    5   26    0]]\n",
      "Accuracy :  0.0014727540500736377\n",
      "Accuracy 2: 0.5203730976926854\n",
      "Sensitivity :  0.14285714285714285\n",
      "Specificity :  0.5\n",
      "Recall [0.01538462 0.01941748 0.09545455 0.         0.05405405 0.74908559\n",
      " 0.        ]\n",
      "Precision [0.02380952 0.01818182 0.11538462 0.         0.08450704 0.67635403\n",
      " 0.        ]\n",
      "F1 [0.01869159 0.01877934 0.10447761 0.         0.06593407 0.71086428\n",
      " 0.        ]\n"
     ]
    }
   ],
   "source": [
    "predictions = model.predict(test,verbose=1)  #for confusion metric\n",
    "#6\n",
    "import matplotlib.pyplot as plt\n",
    "import numpy as np\n",
    "from sklearn.metrics import confusion_matrix\n",
    "test_labels=test.classes\n",
    "cm1=confusion_matrix(test_labels, predictions.argmax(axis=1))\n",
    "# or\n",
    "#cm = np.array([[1401,    0],[1112, 0]])\n",
    "cm1_plot_labels = ['akiec', 'bcc', 'bkl', 'df', 'mel','nv', 'vasc']\n",
    "plt.imshow(cm1, cmap=plt.cm.Blues)\n",
    "plt.xlabel(\"Predicted labels\")\n",
    "plt.ylabel(\"True labels\")\n",
    "\n",
    "plt.xticks([], [])\n",
    "plt.yticks([], [])\n",
    "plt.title('Confusion matrix ')\n",
    "plt.colorbar()\n",
    "plt.show()\n",
    "\n",
    "# Accuracy\n",
    "from sklearn.metrics import accuracy_score\n",
    "Accuracy=accuracy_score(test_labels, predictions.argmax(axis=1))\n",
    "# Recall\n",
    "from sklearn.metrics import recall_score\n",
    "RecallScore=recall_score(test_labels, predictions.argmax(axis=1), average=None)\n",
    "# Precision\n",
    "from sklearn.metrics import precision_score\n",
    "Precision=precision_score(test_labels, predictions.argmax(axis=1), average=None)\n",
    "from sklearn.metrics import f1_score\n",
    "F1=f1_score(test_labels, predictions.argmax(axis=1), average=None)\n",
    "total1=sum(sum(cm1))\n",
    "print(\"Confusion:\",cm1)\n",
    "#####from confusion matrix calculate accuracy\n",
    "accuracy1=(cm1[0,0]+cm1[1,1])/total1\n",
    "print ('Accuracy : ', accuracy1)\n",
    "print(\"Accuracy 2:\",Accuracy)\n",
    "sensitivity1 = cm1[0,0]/(cm1[0,0]+cm1[0,1])\n",
    "print('Sensitivity : ', sensitivity1 )\n",
    "specificity1 = cm1[1,1]/(cm1[1,0]+cm1[1,1])\n",
    "print('Specificity : ', specificity1)\n",
    "print(\"Recall\",RecallScore)\n",
    "print(\"Precision\",Precision)\n",
    "print(\"F1\",F1)"
   ]
  },
  {
   "cell_type": "code",
   "execution_count": 24,
   "metadata": {
    "colab": {
     "base_uri": "https://localhost:8080/"
    },
    "id": "3SoQtKtTRayn",
    "outputId": "80d8ea1c-7678-4f63-e9e5-aca5aa59933f"
   },
   "outputs": [
    {
     "name": "stdout",
     "output_type": "stream",
     "text": [
      "64/64 [==============================] - 26s 405ms/step - loss: 0.8055 - accuracy: 0.7595\n",
      "Loss = 0.8055092692375183\n",
      "Test Accuracy = 0.7594501972198486\n",
      "64/64 [==============================] - 27s 423ms/step - loss: 0.8765 - accuracy: 0.7668\n",
      "Loss = 0.8765026330947876\n",
      "Validation Accuracy = 0.766765296459198\n"
     ]
    }
   ],
   "source": [
    "preds = model.evaluate(test)\n",
    "print (\"Loss = \" + str(preds[0]))\n",
    "print (\"Test Accuracy = \" + str(preds[1]))\n",
    "\n",
    "preds = model.evaluate(val)\n",
    "print (\"Loss = \" + str(preds[0]))\n",
    "print (\"Validation Accuracy = \" + str(preds[1]))\n",
    "model.save(\"/content/drive/MyDrive/new/original.h5\")"
   ]
  },
  {
   "cell_type": "code",
   "execution_count": 26,
   "metadata": {
    "colab": {
     "base_uri": "https://localhost:8080/",
     "height": 573
    },
    "id": "PWcwrbTRRayn",
    "outputId": "7a8b197f-6742-4245-b8f8-3c04a2d10f83"
   },
   "outputs": [
    {
     "data": {
      "image/png": "[encoded data removed]",
      "text/plain": [
       "<Figure size 432x288 with 1 Axes>"
      ]
     },
     "metadata": {
      "needs_background": "light",
      "tags": []
     },
     "output_type": "display_data"
    },
    {
     "data": {
      "image/png": "[encoded data removed]",
      "text/plain": [
       "<Figure size 432x288 with 1 Axes>"
      ]
     },
     "metadata": {
      "needs_background": "light",
      "tags": []
     },
     "output_type": "display_data"
    }
   ],
   "source": [
    "#with epochs 50\n",
    "from matplotlib import pyplot as plt\n",
    "plt.plot(history.history['accuracy'])\n",
    "plt.plot(history.history['val_accuracy'])\n",
    "plt.title('model accuracy')\n",
    "plt.ylabel('accuracy')\n",
    "plt.xlabel('epoch')\n",
    "plt.legend(['train', 'val'], loc='upper left')\n",
    "plt.show()\n",
    "#with epochs 7\n",
    "plt.plot(history.history['loss'])\n",
    "plt.plot(history.history['val_loss'])\n",
    "plt.title('model loss')\n",
    "plt.ylabel('loss')\n",
    "plt.xlabel('epoch')\n",
    "plt.legend(['train', 'val'], loc='upper left')\n",
    "plt.show()"
   ]
  },
  {
   "cell_type": "code",
   "execution_count": 27,
   "metadata": {
    "colab": {
     "base_uri": "https://localhost:8080/",
     "height": 296
    },
    "id": "41eV_oRFRayn",
    "outputId": "e4cde6a8-113d-4370-8235-ca069c5ae955"
   },
   "outputs": [
    {
     "data": {
      "text/plain": [
       "Text(0, 0.5, 'Fraction classified incorrectly')"
      ]
     },
     "execution_count": 27,
     "metadata": {
      "tags": []
     },
     "output_type": "execute_result"
    },
    {
     "data": {
      "image/png": "[encoded data removed]",
      "text/plain": [
       "<Figure size 432x288 with 1 Axes>"
      ]
     },
     "metadata": {
      "needs_background": "light",
      "tags": []
     },
     "output_type": "display_data"
    }
   ],
   "source": [
    "label_frac_error = 1 - np.diag(cm1) / np.sum(cm1, axis=1)\n",
    "plt.bar(np.arange(7),label_frac_error)\n",
    "plt.xlabel('True Label')\n",
    "plt.ylabel('Fraction classified incorrectly')"
   ]
  },
  {
   "cell_type": "code",
   "execution_count": 28,
   "metadata": {
    "colab": {
     "base_uri": "https://localhost:8080/",
     "height": 296
    },
    "id": "bGsfQlIwRayn",
    "outputId": "d9084c6e-494c-4424-e387-d8eb9fc057bf"
   },
   "outputs": [
    {
     "data": {
      "text/plain": [
       "Text(0, 0.5, 'Fraction classified correctly')"
      ]
     },
     "execution_count": 28,
     "metadata": {
      "tags": []
     },
     "output_type": "execute_result"
    },
    {
     "data": {
      "image/png": "[encoded data removed]",
      "text/plain": [
       "<Figure size 432x288 with 1 Axes>"
      ]
     },
     "metadata": {
      "needs_background": "light",
      "tags": []
     },
     "output_type": "display_data"
    }
   ],
   "source": [
    "label_frac =  np.diag(cm1) / np.sum(cm1, axis=1)\n",
    "plt.bar(np.arange(7),label_frac)\n",
    "plt.xlabel('True Label')\n",
    "plt.ylabel('Fraction classified correctly')"
   ]
  },
  {
   "cell_type": "code",
   "execution_count": null,
   "metadata": {
    "id": "bpBdxmRSRayn"
   },
   "outputs": [],
   "source": []
  },
  {
   "cell_type": "code",
   "execution_count": null,
   "metadata": {
    "id": "gpt_O3u0Rayo"
   },
   "outputs": [],
   "source": []
  }
 ],
 "metadata": {
  "colab": {
   "name": "OriginalData.ipynb",
   "provenance": []
  },
  "kernelspec": {
   "display_name": "Python 3.6(tensorflow)",
   "language": "python",
   "name": "tensorflow"
  },
  "language_info": {
   "codemirror_mode": {
    "name": "ipython",
    "version": 3
   },
   "file_extension": ".py",
   "mimetype": "text/x-python",
   "name": "python",
   "nbconvert_exporter": "python",
   "pygments_lexer": "ipython3",
   "version": "3.6.9"
  }
 },
 "nbformat": 4,
 "nbformat_minor": 1
}
