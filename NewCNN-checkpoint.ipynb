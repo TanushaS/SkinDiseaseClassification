{
 "cells": [
  {
   "cell_type": "code",
   "execution_count": 1,
   "metadata": {},
   "outputs": [
    {
     "name": "stderr",
     "output_type": "stream",
     "text": [
      "Using TensorFlow backend.\n"
     ]
    },
    {
     "name": "stdout",
     "output_type": "stream",
     "text": [
      "Found 25587 images belonging to 7 classes.\n"
     ]
    }
   ],
   "source": [
    "import numpy as np\n",
    "from keras import layers\n",
    "from keras.layers import Input, Dense, Activation,BatchNormalization, Flatten, Conv2D, MaxPooling2D\n",
    "from keras.models import Model\n",
    "from keras.layers import Dropout\n",
    "from keras.preprocessing import image\n",
    "from keras.preprocessing.image import ImageDataGenerator\n",
    "import tensorflow as tf\n",
    "import keras.backend as K\n",
    "tf.keras.backend.set_image_data_format('channels_last')\n",
    "path = 'F:\\\\Kaggle_base_dir\\\\base_dir\\\\train_dir'\n",
    "train_datagen = ImageDataGenerator(rescale=1. / 255)\n",
    "train = train_datagen.flow_from_directory(path, target_size=(64,64), class_mode='categorical')"
   ]
  },
  {
   "cell_type": "code",
   "execution_count": 3,
   "metadata": {},
   "outputs": [],
   "source": [
    "import cv2\n",
    "import os\n",
    "import numpy as np\n",
    "import pandas as pd\n",
    "import os\n",
    "from glob import glob\n",
    "import seaborn as sns\n",
    "from PIL import Image\n",
    "np.random.seed(123)\n",
    "from sklearn.preprocessing import label_binarize\n",
    "from sklearn.metrics import confusion_matrix\n",
    "import itertools\n",
    "\n",
    "import keras\n",
    "from keras.utils.np_utils import to_categorical # used for converting labels to one-hot-encoding\n",
    "from keras.models import Sequential\n",
    "from keras.layers import Dense, Dropout, Flatten, Conv2D, MaxPool2D\n",
    "from keras import backend as K\n",
    "import itertools\n",
    "from keras.layers.normalization import BatchNormalization\n",
    "from keras.utils.np_utils import to_categorical # convert to one-hot-encoding\n",
    "\n",
    "from keras.optimizers import Adam\n",
    "from keras.optimizers import SGD\n",
    "from keras.optimizers import Adadelta\n",
    "from keras.preprocessing.image import ImageDataGenerator\n",
    "from keras.callbacks import ReduceLROnPlateau\n",
    "from sklearn.model_selection import train_test_split"
   ]
  },
  {
   "cell_type": "code",
   "execution_count": 4,
   "metadata": {},
   "outputs": [],
   "source": [
    "%matplotlib inline\n",
    "import matplotlib.pyplot as plt"
   ]
  },
  {
   "cell_type": "code",
   "execution_count": 5,
   "metadata": {},
   "outputs": [
    {
     "data": {
      "text/plain": [
       "keras_preprocessing.image.directory_iterator.DirectoryIterator"
      ]
     },
     "execution_count": 5,
     "metadata": {},
     "output_type": "execute_result"
    }
   ],
   "source": [
    "type(train)\n"
   ]
  },
  {
   "cell_type": "code",
   "execution_count": 6,
   "metadata": {},
   "outputs": [
    {
     "data": {
      "text/plain": [
       "keras.preprocessing.image.ImageDataGenerator"
      ]
     },
     "execution_count": 6,
     "metadata": {},
     "output_type": "execute_result"
    }
   ],
   "source": [
    "type(train_datagen)"
   ]
  },
  {
   "cell_type": "code",
   "execution_count": 7,
   "metadata": {},
   "outputs": [
    {
     "name": "stdout",
     "output_type": "stream",
     "text": [
      "Batch Size for Input Image :  (32, 200, 200, 3)\n",
      "Batch Size for Output Image :  (32, 7)\n",
      "Image Size of first image :  (200, 200, 3)\n",
      "Output of first image :  (7,)\n"
     ]
    }
   ],
   "source": [
    "print(\"Batch Size for Input Image : \",train[0][0].shape)\n",
    "print(\"Batch Size for Output Image : \",train[0][1].shape)\n",
    "print(\"Image Size of first image : \",train[0][0][0].shape)\n",
    "print(\"Output of first image : \",train[0][1][0].shape)"
   ]
  },
  {
   "cell_type": "code",
   "execution_count": 8,
   "metadata": {},
   "outputs": [],
   "source": [
    "# Our input feature map is 64x64x3: 64x64 for the image pixels, and 3 for\n",
    "# the three color channels: R, G, and B\n",
    "\n",
    "img_input = layers.Input(shape=(64, 64, 3))\n",
    "\n",
    "# First convolution extracts 16 filters that are 3x3\n",
    "# Convolution is followed by max-pooling layer with a 2x2 window\n",
    "x = layers.Conv2D(16, 3, activation='relu', padding='same')(img_input)\n",
    "x = layers.MaxPooling2D(2)(x)\n",
    "\n",
    "# Second convolution extracts 32 filters that are 3x3\n",
    "# Convolution is followed by max-pooling layer with a 2x2 window\n",
    "x = layers.Conv2D(32, 3, activation='relu', padding='same')(x)\n",
    "x = layers.MaxPooling2D(2)(x)\n",
    "\n",
    "# Third convolution extracts 64 filters that are 3x3\n",
    "# Convolution is followed by max-pooling layer with a 2x2 window\n",
    "x = layers.Convolution2D(64, 3, activation='relu', padding='same')(x)\n",
    "x = layers.MaxPooling2D(2)(x)\n",
    "\n",
    "# Fourth convolution extracts 128 filters that are 3x3\n",
    "# Convolution is followed by max-pooling layer with a 2x2 window\n",
    "x = layers.Convolution2D(128, 3, activation='relu', padding='same')(x)\n",
    "x = layers.MaxPooling2D(2)(x)\n",
    "\n",
    "# Flatten feature map to a 1-dim tensor\n",
    "x = layers.Flatten()(x)\n",
    "\n",
    "# Create a fully connected layer with ReLU activation and 512 hidden units\n",
    "x = layers.Dense(512, activation='relu')(x)\n",
    "\n",
    "# Add a dropout rate of 0.5\n",
    "x = layers.Dropout(0.5)(x)\n",
    "\n",
    "# Create a fully connected layer with ReLU activation and 512 hidden units\n",
    "#x = layers.Dense(512, activation='relu')(x)\n",
    "\n",
    "# Add a dropout rate of 0.5\n",
    "#x = layers.Dropout(0.5)(x)\n",
    "\n",
    "# Create output layer with a single node and sigmoid activation\n",
    "output = layers.Dense(7, activation='softmax')(x)\n",
    "\n",
    "# Configure and compile the model\n",
    "model = Model(img_input, output)\n",
    "\n",
    "#optimizer = Adadelta(lr=0.001,rho=0.95,epsilon=1e-07)\n",
    "optimizer = Adam(lr=0.001, beta_1=0.9, beta_2=0.999, epsilon=None, decay=0.0, amsgrad=False)\n",
    "#optimizer =SGD(lr=0.001)\n",
    "\n",
    "model.compile(loss='categorical_crossentropy', optimizer=optimizer, metrics=['accuracy'])"
   ]
  },
  {
   "cell_type": "code",
   "execution_count": 11,
   "metadata": {},
   "outputs": [
    {
     "name": "stdout",
     "output_type": "stream",
     "text": [
      "Model: \"model_1\"\n",
      "_________________________________________________________________\n",
      "Layer (type)                 Output Shape              Param #   \n",
      "=================================================================\n",
      "input_1 (InputLayer)         (None, 200, 200, 3)       0         \n",
      "_________________________________________________________________\n",
      "conv2d_1 (Conv2D)            (None, 200, 200, 16)      448       \n",
      "_________________________________________________________________\n",
      "max_pooling2d_1 (MaxPooling2 (None, 100, 100, 16)      0         \n",
      "_________________________________________________________________\n",
      "conv2d_2 (Conv2D)            (None, 100, 100, 32)      4640      \n",
      "_________________________________________________________________\n",
      "max_pooling2d_2 (MaxPooling2 (None, 50, 50, 32)        0         \n",
      "_________________________________________________________________\n",
      "conv2d_3 (Conv2D)            (None, 50, 50, 64)        18496     \n",
      "_________________________________________________________________\n",
      "max_pooling2d_3 (MaxPooling2 (None, 25, 25, 64)        0         \n",
      "_________________________________________________________________\n",
      "conv2d_4 (Conv2D)            (None, 25, 25, 128)       73856     \n",
      "_________________________________________________________________\n",
      "max_pooling2d_4 (MaxPooling2 (None, 12, 12, 128)       0         \n",
      "_________________________________________________________________\n",
      "flatten_1 (Flatten)          (None, 18432)             0         \n",
      "_________________________________________________________________\n",
      "dense_1 (Dense)              (None, 512)               9437696   \n",
      "_________________________________________________________________\n",
      "dropout_1 (Dropout)          (None, 512)               0         \n",
      "_________________________________________________________________\n",
      "dense_2 (Dense)              (None, 7)                 3591      \n",
      "=================================================================\n",
      "Total params: 9,538,727\n",
      "Trainable params: 9,538,727\n",
      "Non-trainable params: 0\n",
      "_________________________________________________________________\n"
     ]
    }
   ],
   "source": [
    "model.summary()"
   ]
  },
  {
   "cell_type": "code",
   "execution_count": 12,
   "metadata": {},
   "outputs": [],
   "source": [
    "learning_rate_reduction = ReduceLROnPlateau(monitor='val_acc', patience=3, verbose=1, factor=0.5, min_lr=0.00001)"
   ]
  },
  {
   "cell_type": "code",
   "execution_count": 13,
   "metadata": {},
   "outputs": [
    {
     "name": "stdout",
     "output_type": "stream",
     "text": [
      "Found 2003 images belonging to 7 classes.\n"
     ]
    }
   ],
   "source": [
    "val_path = 'F:\\\\Kaggle_base_dir\\\\base_dir\\\\test_dir\\\\val_dir'\n",
    "val_datagen = ImageDataGenerator(rescale=1. / 255)\n",
    "val = val_datagen.flow_from_directory(val_path, target_size=(64,64), class_mode='categorical')"
   ]
  },
  {
   "cell_type": "code",
   "execution_count": 14,
   "metadata": {},
   "outputs": [
    {
     "name": "stdout",
     "output_type": "stream",
     "text": [
      "Found 2003 images belonging to 7 classes.\n"
     ]
    }
   ],
   "source": [
    "\n",
    "#testing\n",
    "path_test = 'F:\\\\Kaggle_base_dir\\\\base_dir\\\\test_dir\\\\testing_dir'\n",
    "test_datagen = ImageDataGenerator(rescale=1. / 255)\n",
    "test = test_datagen.flow_from_directory(path_test, target_size=(64,64), class_mode='categorical')"
   ]
  },
  {
   "cell_type": "code",
   "execution_count": 11,
   "metadata": {},
   "outputs": [
    {
     "name": "stdout",
     "output_type": "stream",
     "text": [
      "Epoch 1/5\n",
      "800/800 [==============================] - 4749s 6s/step - loss: 1.4737 - acc: 0.3962 - val_loss: 1.2060 - val_acc: 0.5811\n",
      "Epoch 2/5\n",
      "800/800 [==============================] - 4761s 6s/step - loss: 1.1712 - acc: 0.5370 - val_loss: 0.8772 - val_acc: 0.6870\n",
      "Epoch 3/5\n",
      "800/800 [==============================] - 4751s 6s/step - loss: 1.0324 - acc: 0.5985 - val_loss: 0.8949 - val_acc: 0.6465\n",
      "Epoch 4/5\n",
      "800/800 [==============================] - 4739s 6s/step - loss: 0.9122 - acc: 0.6457 - val_loss: 0.8331 - val_acc: 0.6900\n",
      "Epoch 5/5\n",
      "800/800 [==============================] - 4753s 6s/step - loss: 0.8081 - acc: 0.6929 - val_loss: 0.8816 - val_acc: 0.6785\n"
     ]
    }
   ],
   "source": [
    "#using additional layers\n",
    "history=model.fit(train,epochs=5,validation_data=(val))"
   ]
  },
  {
   "cell_type": "code",
   "execution_count": 19,
   "metadata": {},
   "outputs": [
    {
     "name": "stdout",
     "output_type": "stream",
     "text": [
      "Epoch 1/5\n",
      "800/800 [==============================] - 5473s 7s/step - loss: 1.5258 - acc: 0.3986 - val_loss: 1.1463 - val_acc: 0.5736\n",
      "Epoch 2/5\n",
      "800/800 [==============================] - 5561s 7s/step - loss: 1.2142 - acc: 0.5272 - val_loss: 1.0567 - val_acc: 0.6091\n",
      "Epoch 3/5\n",
      "800/800 [==============================] - 4884s 6s/step - loss: 1.1036 - acc: 0.5750 - val_loss: 0.9375 - val_acc: 0.6455\n",
      "Epoch 4/5\n",
      "800/800 [==============================] - 4563s 6s/step - loss: 1.0318 - acc: 0.6079 - val_loss: 0.9083 - val_acc: 0.6720\n",
      "Epoch 5/5\n",
      "800/800 [==============================] - 4546s 6s/step - loss: 0.9724 - acc: 0.6275 - val_loss: 0.8382 - val_acc: 0.6865\n"
     ]
    }
   ],
   "source": [
    "#using learning rate reduction\n",
    "history=model.fit(train,epochs=5,validation_data=(val),callbacks=[learning_rate_reduction])"
   ]
  },
  {
   "cell_type": "code",
   "execution_count": 12,
   "metadata": {},
   "outputs": [
    {
     "name": "stdout",
     "output_type": "stream",
     "text": [
      "Epoch 1/5\n",
      "800/800 [==============================] - 4829s 6s/step - loss: 1.5443 - acc: 0.3761 - val_loss: 1.1108 - val_acc: 0.5512\n",
      "Epoch 2/5\n",
      "800/800 [==============================] - 4801s 6s/step - loss: 1.2009 - acc: 0.5231 - val_loss: 1.0054 - val_acc: 0.6191\n",
      "Epoch 3/5\n",
      "800/800 [==============================] - 4735s 6s/step - loss: 1.0731 - acc: 0.5842 - val_loss: 0.7788 - val_acc: 0.7059\n",
      "Epoch 4/5\n",
      "800/800 [==============================] - 4772s 6s/step - loss: 0.9824 - acc: 0.6214 - val_loss: 0.7676 - val_acc: 0.7089\n",
      "Epoch 5/5\n",
      "800/800 [==============================] - 4765s 6s/step - loss: 0.9178 - acc: 0.6455 - val_loss: 0.7591 - val_acc: 0.7144\n"
     ]
    }
   ],
   "source": [
    "#using additional layers with learning rate reduction\n",
    "history=model.fit(train,epochs=5,validation_data=(val),callbacks=[learning_rate_reduction])"
   ]
  },
  {
   "cell_type": "code",
   "execution_count": 22,
   "metadata": {},
   "outputs": [
    {
     "name": "stdout",
     "output_type": "stream",
     "text": [
      "Epoch 1/5\n",
      "800/800 [==============================] - 701s 876ms/step - loss: 1.3284 - acc: 0.4690 - val_loss: 0.9424 - val_acc: 0.6500\n",
      "Epoch 2/5\n",
      "800/800 [==============================] - 626s 782ms/step - loss: 1.0252 - acc: 0.5997 - val_loss: 0.9314 - val_acc: 0.6510\n",
      "Epoch 3/5\n",
      "800/800 [==============================] - 635s 794ms/step - loss: 0.9171 - acc: 0.6441 - val_loss: 0.8764 - val_acc: 0.6735\n",
      "Epoch 4/5\n",
      "800/800 [==============================] - 641s 801ms/step - loss: 0.8200 - acc: 0.6878 - val_loss: 0.7542 - val_acc: 0.7259\n",
      "Epoch 5/5\n",
      "800/800 [==============================] - 637s 797ms/step - loss: 0.7429 - acc: 0.7144 - val_loss: 0.8222 - val_acc: 0.7000\n"
     ]
    }
   ],
   "source": [
    "#using resolution 64x64\n",
    "history=model.fit(train,epochs=5,validation_data=(val))"
   ]
  },
  {
   "cell_type": "code",
   "execution_count": 11,
   "metadata": {},
   "outputs": [
    {
     "name": "stdout",
     "output_type": "stream",
     "text": [
      "Epoch 1/5\n",
      "800/800 [==============================] - 759s 949ms/step - loss: 1.3784 - acc: 0.4392 - val_loss: 0.8906 - val_acc: 0.6460\n",
      "Epoch 2/5\n",
      "800/800 [==============================] - 711s 889ms/step - loss: 1.0472 - acc: 0.5890 - val_loss: 0.7742 - val_acc: 0.7039\n",
      "Epoch 3/5\n",
      "800/800 [==============================] - 717s 897ms/step - loss: 0.9068 - acc: 0.6497 - val_loss: 0.8994 - val_acc: 0.6535\n",
      "Epoch 4/5\n",
      "800/800 [==============================] - 714s 893ms/step - loss: 0.8132 - acc: 0.6872 - val_loss: 0.7863 - val_acc: 0.7204\n",
      "Epoch 5/5\n",
      "800/800 [==============================] - 688s 860ms/step - loss: 0.7202 - acc: 0.7248 - val_loss: 0.8191 - val_acc: 0.6915\n"
     ]
    }
   ],
   "source": [
    "#using additional layer and resolution 64x64\n",
    "history=model.fit(train,epochs=5,validation_data=(val))"
   ]
  },
  {
   "cell_type": "code",
   "execution_count": 16,
   "metadata": {},
   "outputs": [
    {
     "name": "stdout",
     "output_type": "stream",
     "text": [
      "Epoch 1/5\n",
      "800/800 [==============================] - 793s 992ms/step - loss: 1.4360 - acc: 0.4100 - val_loss: 1.0201 - val_acc: 0.5941\n",
      "Epoch 2/5\n",
      "800/800 [==============================] - 701s 877ms/step - loss: 1.0978 - acc: 0.5650 - val_loss: 1.0006 - val_acc: 0.5886\n",
      "Epoch 3/5\n",
      "800/800 [==============================] - 730s 912ms/step - loss: 0.9777 - acc: 0.6150 - val_loss: 0.9286 - val_acc: 0.6390\n",
      "Epoch 4/5\n",
      "800/800 [==============================] - 693s 867ms/step - loss: 0.8736 - acc: 0.6649 - val_loss: 0.8530 - val_acc: 0.6705\n",
      "Epoch 5/5\n",
      "800/800 [==============================] - 698s 872ms/step - loss: 0.7904 - acc: 0.6955 - val_loss: 0.8053 - val_acc: 0.6985\n"
     ]
    }
   ],
   "source": [
    "#using additional 2 layers and resolution 64x64\n",
    "history=model.fit(train,epochs=5,validation_data=(val))"
   ]
  },
  {
   "cell_type": "code",
   "execution_count": 20,
   "metadata": {},
   "outputs": [
    {
     "name": "stdout",
     "output_type": "stream",
     "text": [
      "Epoch 1/5\n",
      "800/800 [==============================] - 843s 1s/step - loss: 1.6008 - acc: 0.3547 - val_loss: 1.1129 - val_acc: 0.5487\n",
      "Epoch 2/5\n",
      "800/800 [==============================] - 682s 853ms/step - loss: 1.2358 - acc: 0.5071 - val_loss: 1.1808 - val_acc: 0.5532\n",
      "Epoch 3/5\n",
      "800/800 [==============================] - 671s 838ms/step - loss: 1.1409 - acc: 0.5516 - val_loss: 1.0196 - val_acc: 0.6256\n",
      "Epoch 4/5\n",
      "800/800 [==============================] - 690s 862ms/step - loss: 1.0599 - acc: 0.5859 - val_loss: 0.9067 - val_acc: 0.6660\n",
      "Epoch 5/5\n",
      "800/800 [==============================] - 689s 862ms/step - loss: 0.9979 - acc: 0.6098 - val_loss: 1.0338 - val_acc: 0.6151\n"
     ]
    }
   ],
   "source": [
    "#using lr=0.0001\n",
    "history=model.fit(train,epochs=5,validation_data=(val))"
   ]
  },
  {
   "cell_type": "code",
   "execution_count": 29,
   "metadata": {},
   "outputs": [
    {
     "name": "stdout",
     "output_type": "stream",
     "text": [
      "Epoch 1/5\n",
      "800/800 [==============================] - 681s 851ms/step - loss: 1.9547 - acc: 0.1527 - val_loss: 1.8266 - val_acc: 0.6695\n",
      "Epoch 2/5\n",
      "800/800 [==============================] - 677s 846ms/step - loss: 1.9408 - acc: 0.1540 - val_loss: 1.8660 - val_acc: 0.6695\n",
      "Epoch 3/5\n",
      "800/800 [==============================] - 686s 857ms/step - loss: 1.9410 - acc: 0.1533 - val_loss: 1.8226 - val_acc: 0.6695\n",
      "Epoch 4/5\n",
      "800/800 [==============================] - 696s 870ms/step - loss: 1.9411 - acc: 0.1534 - val_loss: 1.8790 - val_acc: 0.0330\n",
      "Epoch 5/5\n",
      "800/800 [==============================] - 678s 848ms/step - loss: 1.9410 - acc: 0.1529 - val_loss: 1.8780 - val_acc: 0.0330\n"
     ]
    }
   ],
   "source": [
    "#using lr=0.01\n",
    "history=model.fit(train,epochs=5,validation_data=(val))"
   ]
  },
  {
   "cell_type": "code",
   "execution_count": 12,
   "metadata": {},
   "outputs": [
    {
     "name": "stdout",
     "output_type": "stream",
     "text": [
      "Epoch 1/5\n",
      "800/800 [==============================] - 706s 883ms/step - loss: 1.3963 - acc: 0.4364 - val_loss: 0.9984 - val_acc: 0.6181\n",
      "Epoch 2/5\n",
      "800/800 [==============================] - 648s 810ms/step - loss: 1.0679 - acc: 0.5779 - val_loss: 0.8427 - val_acc: 0.6785\n",
      "Epoch 3/5\n",
      "800/800 [==============================] - 639s 799ms/step - loss: 0.9470 - acc: 0.6323 - val_loss: 0.7476 - val_acc: 0.7149\n",
      "Epoch 4/5\n",
      "800/800 [==============================] - 634s 793ms/step - loss: 0.8383 - acc: 0.6726 - val_loss: 0.7695 - val_acc: 0.7069\n",
      "Epoch 5/5\n",
      "800/800 [==============================] - 627s 783ms/step - loss: 0.7447 - acc: 0.7120 - val_loss: 0.7520 - val_acc: 0.7164\n"
     ]
    }
   ],
   "source": [
    "#using learning rate reduction and res 64x64\n",
    "history=model.fit(train,epochs=5,validation_data=(val),callbacks=[learning_rate_reduction])"
   ]
  },
  {
   "cell_type": "code",
   "execution_count": 12,
   "metadata": {},
   "outputs": [
    {
     "name": "stdout",
     "output_type": "stream",
     "text": [
      "Epoch 1/20\n",
      "800/800 [==============================] - 714s 892ms/step - loss: 1.3419 - acc: 0.4580 - val_loss: 0.9048 - val_acc: 0.6360\n",
      "Epoch 2/20\n",
      "800/800 [==============================] - 639s 799ms/step - loss: 1.0165 - acc: 0.6010 - val_loss: 0.7939 - val_acc: 0.6850\n",
      "Epoch 3/20\n",
      "800/800 [==============================] - 617s 771ms/step - loss: 0.8755 - acc: 0.6629 - val_loss: 0.8977 - val_acc: 0.6585\n",
      "Epoch 4/20\n",
      "800/800 [==============================] - 637s 797ms/step - loss: 0.7803 - acc: 0.6968 - val_loss: 0.7937 - val_acc: 0.6965\n",
      "Epoch 5/20\n",
      "800/800 [==============================] - 651s 814ms/step - loss: 0.6927 - acc: 0.7333 - val_loss: 0.7944 - val_acc: 0.7129\n",
      "Epoch 6/20\n",
      "800/800 [==============================] - 672s 840ms/step - loss: 0.6238 - acc: 0.7598 - val_loss: 0.7959 - val_acc: 0.7119\n",
      "Epoch 7/20\n",
      "800/800 [==============================] - 704s 880ms/step - loss: 0.5749 - acc: 0.7791 - val_loss: 0.8316 - val_acc: 0.7344\n",
      "Epoch 8/20\n",
      "800/800 [==============================] - 697s 872ms/step - loss: 0.5010 - acc: 0.8079 - val_loss: 0.8214 - val_acc: 0.7319\n",
      "Epoch 9/20\n",
      "800/800 [==============================] - 692s 865ms/step - loss: 0.4548 - acc: 0.8271 - val_loss: 0.8523 - val_acc: 0.7209\n",
      "Epoch 10/20\n",
      "800/800 [==============================] - 668s 835ms/step - loss: 0.4243 - acc: 0.8392 - val_loss: 0.8258 - val_acc: 0.7504\n",
      "Epoch 11/20\n",
      "800/800 [==============================] - 629s 786ms/step - loss: 0.3801 - acc: 0.8567 - val_loss: 0.8802 - val_acc: 0.7394\n",
      "Epoch 12/20\n",
      "800/800 [==============================] - 638s 798ms/step - loss: 0.3406 - acc: 0.8703 - val_loss: 0.9767 - val_acc: 0.7194\n",
      "Epoch 13/20\n",
      "800/800 [==============================] - 640s 799ms/step - loss: 0.3130 - acc: 0.8825 - val_loss: 0.9740 - val_acc: 0.7234\n",
      "\n",
      "Epoch 00013: ReduceLROnPlateau reducing learning rate to 0.0005000000237487257.\n",
      "Epoch 14/20\n",
      "800/800 [==============================] - 631s 788ms/step - loss: 0.1950 - acc: 0.9294 - val_loss: 1.0296 - val_acc: 0.7499\n",
      "Epoch 15/20\n",
      "800/800 [==============================] - 636s 795ms/step - loss: 0.1718 - acc: 0.9361 - val_loss: 1.0617 - val_acc: 0.7519\n",
      "Epoch 16/20\n",
      "800/800 [==============================] - 636s 795ms/step - loss: 0.1500 - acc: 0.9436 - val_loss: 1.1588 - val_acc: 0.7409\n",
      "Epoch 17/20\n",
      "800/800 [==============================] - 641s 801ms/step - loss: 0.1446 - acc: 0.9458 - val_loss: 1.1968 - val_acc: 0.7379\n",
      "Epoch 18/20\n",
      "800/800 [==============================] - 634s 792ms/step - loss: 0.1283 - acc: 0.9534 - val_loss: 1.2193 - val_acc: 0.7514\n",
      "\n",
      "Epoch 00018: ReduceLROnPlateau reducing learning rate to 0.0002500000118743628.\n",
      "Epoch 19/20\n",
      "800/800 [==============================] - 644s 805ms/step - loss: 0.0819 - acc: 0.9692 - val_loss: 1.3562 - val_acc: 0.7384\n",
      "Epoch 20/20\n",
      "800/800 [==============================] - 648s 810ms/step - loss: 0.0704 - acc: 0.9760 - val_loss: 1.3537 - val_acc: 0.7459\n"
     ]
    }
   ],
   "source": [
    "#using learning rate reduction and res 64x64,epochs=20\n",
    "history=model.fit(train,epochs=20,validation_data=(val),callbacks=[learning_rate_reduction])"
   ]
  },
  {
   "cell_type": "code",
   "execution_count": 17,
   "metadata": {},
   "outputs": [
    {
     "name": "stdout",
     "output_type": "stream",
     "text": [
      "Epoch 1/10\n",
      "800/800 [==============================] - 702s 878ms/step - loss: 1.3657 - acc: 0.4479 - val_loss: 0.9655 - val_acc: 0.6425\n",
      "Epoch 2/10\n",
      "800/800 [==============================] - 686s 858ms/step - loss: 1.0278 - acc: 0.5974 - val_loss: 1.0427 - val_acc: 0.6196\n",
      "Epoch 3/10\n",
      "800/800 [==============================] - 694s 867ms/step - loss: 0.9013 - acc: 0.6510 - val_loss: 0.8056 - val_acc: 0.6935\n",
      "Epoch 4/10\n",
      "800/800 [==============================] - 678s 848ms/step - loss: 0.7953 - acc: 0.6975 - val_loss: 0.7850 - val_acc: 0.7000\n",
      "Epoch 5/10\n",
      "800/800 [==============================] - 710s 887ms/step - loss: 0.7265 - acc: 0.7243 - val_loss: 0.7842 - val_acc: 0.7244\n",
      "Epoch 6/10\n",
      "800/800 [==============================] - 686s 857ms/step - loss: 0.6542 - acc: 0.7524 - val_loss: 0.7933 - val_acc: 0.7099\n",
      "Epoch 7/10\n",
      "800/800 [==============================] - 708s 885ms/step - loss: 0.5850 - acc: 0.7756 - val_loss: 0.7764 - val_acc: 0.7234\n",
      "Epoch 8/10\n",
      "800/800 [==============================] - 691s 863ms/step - loss: 0.5366 - acc: 0.7978 - val_loss: 0.8113 - val_acc: 0.7209\n",
      "\n",
      "Epoch 00008: ReduceLROnPlateau reducing learning rate to 0.0005000000237487257.\n",
      "Epoch 9/10\n",
      "800/800 [==============================] - 691s 864ms/step - loss: 0.4080 - acc: 0.8476 - val_loss: 0.8396 - val_acc: 0.7369\n",
      "Epoch 10/10\n",
      "800/800 [==============================] - 685s 856ms/step - loss: 0.3684 - acc: 0.8606 - val_loss: 0.8753 - val_acc: 0.7254\n"
     ]
    }
   ],
   "source": [
    "#using learning rate reduction and res 64x64,epochs=10\n",
    "history=model.fit(train,epochs=10,validation_data=(val),callbacks=[learning_rate_reduction])"
   ]
  },
  {
   "cell_type": "code",
   "execution_count": 51,
   "metadata": {},
   "outputs": [
    {
     "name": "stdout",
     "output_type": "stream",
     "text": [
      "Epoch 1/8\n",
      "800/800 [==============================] - 801s 1s/step - loss: 1.9425 - acc: 0.1541 - val_loss: 1.9450 - val_acc: 0.1103\n",
      "Epoch 2/8\n",
      "800/800 [==============================] - 725s 906ms/step - loss: 1.9409 - acc: 0.1576 - val_loss: 1.9408 - val_acc: 0.0714\n",
      "Epoch 3/8\n",
      "800/800 [==============================] - 726s 908ms/step - loss: 1.9396 - acc: 0.1560 - val_loss: 1.9378 - val_acc: 0.0544\n",
      "Epoch 4/8\n",
      "800/800 [==============================] - 727s 909ms/step - loss: 1.9387 - acc: 0.1598 - val_loss: 1.9344 - val_acc: 0.0544\n",
      "\n",
      "Epoch 00004: ReduceLROnPlateau reducing learning rate to 0.0005000000237487257.\n",
      "Epoch 5/8\n",
      "800/800 [==============================] - 723s 903ms/step - loss: 1.9380 - acc: 0.1640 - val_loss: 1.9330 - val_acc: 0.0539\n",
      "Epoch 6/8\n",
      "800/800 [==============================] - 717s 897ms/step - loss: 1.9374 - acc: 0.1675 - val_loss: 1.9318 - val_acc: 0.0534\n",
      "Epoch 7/8\n",
      "800/800 [==============================] - 713s 892ms/step - loss: 1.9361 - acc: 0.1702 - val_loss: 1.9306 - val_acc: 0.0524\n",
      "\n",
      "Epoch 00007: ReduceLROnPlateau reducing learning rate to 0.0002500000118743628.\n",
      "Epoch 8/8\n",
      "800/800 [==============================] - 722s 902ms/step - loss: 1.9363 - acc: 0.1680 - val_loss: 1.9299 - val_acc: 0.0529\n"
     ]
    }
   ],
   "source": [
    "#using learning rate reduction and res 64x64,epochs=8,optimizer=adadelta\n",
    "history=model.fit(train,epochs=8,validation_data=(val),callbacks=[learning_rate_reduction])"
   ]
  },
  {
   "cell_type": "code",
   "execution_count": 17,
   "metadata": {},
   "outputs": [
    {
     "name": "stdout",
     "output_type": "stream",
     "text": [
      "Epoch 1/7\n",
      "800/800 [==============================] - 710s 888ms/step - loss: 1.4193 - acc: 0.4138 - val_loss: 0.9647 - val_acc: 0.6485\n",
      "Epoch 2/7\n",
      "800/800 [==============================] - 714s 892ms/step - loss: 1.1068 - acc: 0.5628 - val_loss: 0.8631 - val_acc: 0.6730\n",
      "Epoch 3/7\n",
      "800/800 [==============================] - 713s 891ms/step - loss: 0.9897 - acc: 0.6150 - val_loss: 0.8113 - val_acc: 0.6965\n",
      "Epoch 4/7\n",
      "800/800 [==============================] - 716s 895ms/step - loss: 0.8992 - acc: 0.6496 - val_loss: 0.9807 - val_acc: 0.6171\n",
      "Epoch 5/7\n",
      "800/800 [==============================] - 722s 903ms/step - loss: 0.8310 - acc: 0.6749 - val_loss: 0.7897 - val_acc: 0.7139\n",
      "Epoch 6/7\n",
      "800/800 [==============================] - 731s 914ms/step - loss: 0.7793 - acc: 0.6969 - val_loss: 0.8668 - val_acc: 0.6665\n",
      "Epoch 7/7\n",
      "800/800 [==============================] - 703s 879ms/step - loss: 0.7360 - acc: 0.7142 - val_loss: 0.8535 - val_acc: 0.6820\n"
     ]
    }
   ],
   "source": [
    "#using epochs=7,batch_size=64\n",
    "history=model.fit(train,batch_size=64,epochs=7,validation_data=(val),callbacks=[learning_rate_reduction])"
   ]
  },
  {
   "cell_type": "code",
   "execution_count": 15,
   "metadata": {},
   "outputs": [
    {
     "name": "stdout",
     "output_type": "stream",
     "text": [
      "Epoch 1/8\n",
      "800/800 [==============================] - 802s 1s/step - loss: 1.9432 - acc: 0.1517 - val_loss: 1.9383 - val_acc: 0.0330\n",
      "Epoch 2/8\n",
      "800/800 [==============================] - 744s 930ms/step - loss: 1.9376 - acc: 0.1711 - val_loss: 1.9088 - val_acc: 0.0999\n",
      "Epoch 3/8\n",
      "800/800 [==============================] - 749s 936ms/step - loss: 1.9341 - acc: 0.1883 - val_loss: 1.8969 - val_acc: 0.2356\n",
      "Epoch 4/8\n",
      "800/800 [==============================] - 715s 893ms/step - loss: 1.9300 - acc: 0.2111 - val_loss: 1.8830 - val_acc: 0.4348\n",
      "Epoch 5/8\n",
      "800/800 [==============================] - 735s 918ms/step - loss: 1.9232 - acc: 0.2281 - val_loss: 1.8682 - val_acc: 0.4433\n",
      "Epoch 6/8\n",
      "800/800 [==============================] - 747s 934ms/step - loss: 1.9134 - acc: 0.2425 - val_loss: 1.8444 - val_acc: 0.4713\n",
      "Epoch 7/8\n",
      "800/800 [==============================] - 715s 893ms/step - loss: 1.8981 - acc: 0.2542 - val_loss: 1.7762 - val_acc: 0.4918\n",
      "Epoch 8/8\n",
      "800/800 [==============================] - 742s 927ms/step - loss: 1.8770 - acc: 0.2635 - val_loss: 1.7537 - val_acc: 0.5042\n"
     ]
    }
   ],
   "source": [
    "#using learning rate=0.001 and res 64x64,epochs=7,batch_size=32,optimizer=SGD\n",
    "history=model.fit(train,epochs=8,validation_data=(val),callbacks=[learning_rate_reduction])"
   ]
  },
  {
   "cell_type": "code",
   "execution_count": 15,
   "metadata": {},
   "outputs": [
    {
     "name": "stdout",
     "output_type": "stream",
     "text": [
      "Epoch 1/15\n",
      "800/800 [==============================] - 3794s 5s/step - loss: 1.3312 - acc: 0.4693 - val_loss: 1.1745 - val_acc: 0.5691\n",
      "Epoch 2/15\n",
      "800/800 [==============================] - 3745s 5s/step - loss: 1.0257 - acc: 0.6005 - val_loss: 0.9104 - val_acc: 0.6560\n",
      "Epoch 3/15\n",
      "800/800 [==============================] - 3794s 5s/step - loss: 0.8639 - acc: 0.6696 - val_loss: 0.8071 - val_acc: 0.7000\n",
      "Epoch 4/15\n",
      "800/800 [==============================] - 3751s 5s/step - loss: 0.7401 - acc: 0.7156 - val_loss: 0.8664 - val_acc: 0.6745\n",
      "Epoch 5/15\n",
      "800/800 [==============================] - 3732s 5s/step - loss: 0.6420 - acc: 0.7561 - val_loss: 0.8267 - val_acc: 0.6875\n",
      "Epoch 6/15\n",
      "800/800 [==============================] - 3743s 5s/step - loss: 0.5488 - acc: 0.7927 - val_loss: 0.8308 - val_acc: 0.7134\n",
      "Epoch 7/15\n",
      "800/800 [==============================] - 4267s 5s/step - loss: 0.4718 - acc: 0.8249 - val_loss: 0.9000 - val_acc: 0.7219\n",
      "Epoch 8/15\n",
      "800/800 [==============================] - 3735s 5s/step - loss: 0.3985 - acc: 0.8530 - val_loss: 1.1170 - val_acc: 0.6610\n",
      "Epoch 9/15\n",
      "800/800 [==============================] - 3757s 5s/step - loss: 0.3500 - acc: 0.8706 - val_loss: 0.9639 - val_acc: 0.7229\n",
      "Epoch 10/15\n",
      "800/800 [==============================] - 3759s 5s/step - loss: 0.3043 - acc: 0.8881 - val_loss: 1.0968 - val_acc: 0.6965\n",
      "Epoch 11/15\n"
     ]
    },
    {
     "ename": "KeyboardInterrupt",
     "evalue": "",
     "output_type": "error",
     "traceback": [
      "\u001b[1;31m---------------------------------------------------------------------------\u001b[0m",
      "\u001b[1;31mKeyboardInterrupt\u001b[0m                         Traceback (most recent call last)",
      "\u001b[1;32m<ipython-input-15-ace05a668c3d>\u001b[0m in \u001b[0;36m<module>\u001b[1;34m\u001b[0m\n\u001b[1;32m----> 1\u001b[1;33m \u001b[0mhistory\u001b[0m\u001b[1;33m=\u001b[0m\u001b[0mmodel\u001b[0m\u001b[1;33m.\u001b[0m\u001b[0mfit\u001b[0m\u001b[1;33m(\u001b[0m\u001b[0mtrain\u001b[0m\u001b[1;33m,\u001b[0m\u001b[0mepochs\u001b[0m\u001b[1;33m=\u001b[0m\u001b[1;36m15\u001b[0m\u001b[1;33m,\u001b[0m\u001b[0mvalidation_data\u001b[0m\u001b[1;33m=\u001b[0m\u001b[1;33m(\u001b[0m\u001b[0mval\u001b[0m\u001b[1;33m)\u001b[0m\u001b[1;33m,\u001b[0m\u001b[0mcallbacks\u001b[0m\u001b[1;33m=\u001b[0m\u001b[1;33m[\u001b[0m\u001b[0mlearning_rate_reduction\u001b[0m\u001b[1;33m]\u001b[0m\u001b[1;33m)\u001b[0m\u001b[1;33m\u001b[0m\u001b[1;33m\u001b[0m\u001b[0m\n\u001b[0m",
      "\u001b[1;32m~\\Anaconda3\\envs\\tensorflow\\lib\\site-packages\\keras\\engine\\training.py\u001b[0m in \u001b[0;36mfit\u001b[1;34m(self, x, y, batch_size, epochs, verbose, callbacks, validation_split, validation_data, shuffle, class_weight, sample_weight, initial_epoch, steps_per_epoch, validation_steps, validation_freq, max_queue_size, workers, use_multiprocessing, **kwargs)\u001b[0m\n\u001b[0;32m   1080\u001b[0m                 \u001b[0muse_multiprocessing\u001b[0m\u001b[1;33m=\u001b[0m\u001b[0muse_multiprocessing\u001b[0m\u001b[1;33m,\u001b[0m\u001b[1;33m\u001b[0m\u001b[1;33m\u001b[0m\u001b[0m\n\u001b[0;32m   1081\u001b[0m                 \u001b[0mshuffle\u001b[0m\u001b[1;33m=\u001b[0m\u001b[0mshuffle\u001b[0m\u001b[1;33m,\u001b[0m\u001b[1;33m\u001b[0m\u001b[1;33m\u001b[0m\u001b[0m\n\u001b[1;32m-> 1082\u001b[1;33m                 initial_epoch=initial_epoch)\n\u001b[0m\u001b[0;32m   1083\u001b[0m \u001b[1;33m\u001b[0m\u001b[0m\n\u001b[0;32m   1084\u001b[0m         \u001b[1;31m# Case 2: Symbolic tensors or Numpy array-like.\u001b[0m\u001b[1;33m\u001b[0m\u001b[1;33m\u001b[0m\u001b[1;33m\u001b[0m\u001b[0m\n",
      "\u001b[1;32m~\\Anaconda3\\envs\\tensorflow\\lib\\site-packages\\keras\\legacy\\interfaces.py\u001b[0m in \u001b[0;36mwrapper\u001b[1;34m(*args, **kwargs)\u001b[0m\n\u001b[0;32m     89\u001b[0m                 warnings.warn('Update your `' + object_name + '` call to the ' +\n\u001b[0;32m     90\u001b[0m                               'Keras 2 API: ' + signature, stacklevel=2)\n\u001b[1;32m---> 91\u001b[1;33m             \u001b[1;32mreturn\u001b[0m \u001b[0mfunc\u001b[0m\u001b[1;33m(\u001b[0m\u001b[1;33m*\u001b[0m\u001b[0margs\u001b[0m\u001b[1;33m,\u001b[0m \u001b[1;33m**\u001b[0m\u001b[0mkwargs\u001b[0m\u001b[1;33m)\u001b[0m\u001b[1;33m\u001b[0m\u001b[1;33m\u001b[0m\u001b[0m\n\u001b[0m\u001b[0;32m     92\u001b[0m         \u001b[0mwrapper\u001b[0m\u001b[1;33m.\u001b[0m\u001b[0m_original_function\u001b[0m \u001b[1;33m=\u001b[0m \u001b[0mfunc\u001b[0m\u001b[1;33m\u001b[0m\u001b[1;33m\u001b[0m\u001b[0m\n\u001b[0;32m     93\u001b[0m         \u001b[1;32mreturn\u001b[0m \u001b[0mwrapper\u001b[0m\u001b[1;33m\u001b[0m\u001b[1;33m\u001b[0m\u001b[0m\n",
      "\u001b[1;32m~\\Anaconda3\\envs\\tensorflow\\lib\\site-packages\\keras\\engine\\training.py\u001b[0m in \u001b[0;36mfit_generator\u001b[1;34m(self, generator, steps_per_epoch, epochs, verbose, callbacks, validation_data, validation_steps, validation_freq, class_weight, max_queue_size, workers, use_multiprocessing, shuffle, initial_epoch)\u001b[0m\n\u001b[0;32m   1656\u001b[0m             \u001b[0muse_multiprocessing\u001b[0m\u001b[1;33m=\u001b[0m\u001b[0muse_multiprocessing\u001b[0m\u001b[1;33m,\u001b[0m\u001b[1;33m\u001b[0m\u001b[1;33m\u001b[0m\u001b[0m\n\u001b[0;32m   1657\u001b[0m             \u001b[0mshuffle\u001b[0m\u001b[1;33m=\u001b[0m\u001b[0mshuffle\u001b[0m\u001b[1;33m,\u001b[0m\u001b[1;33m\u001b[0m\u001b[1;33m\u001b[0m\u001b[0m\n\u001b[1;32m-> 1658\u001b[1;33m             initial_epoch=initial_epoch)\n\u001b[0m\u001b[0;32m   1659\u001b[0m \u001b[1;33m\u001b[0m\u001b[0m\n\u001b[0;32m   1660\u001b[0m     \u001b[1;33m@\u001b[0m\u001b[0minterfaces\u001b[0m\u001b[1;33m.\u001b[0m\u001b[0mlegacy_generator_methods_support\u001b[0m\u001b[1;33m\u001b[0m\u001b[1;33m\u001b[0m\u001b[0m\n",
      "\u001b[1;32m~\\Anaconda3\\envs\\tensorflow\\lib\\site-packages\\keras\\engine\\training_generator.py\u001b[0m in \u001b[0;36mfit_generator\u001b[1;34m(model, generator, steps_per_epoch, epochs, verbose, callbacks, validation_data, validation_steps, validation_freq, class_weight, max_queue_size, workers, use_multiprocessing, shuffle, initial_epoch)\u001b[0m\n\u001b[0;32m    213\u001b[0m                 outs = model.train_on_batch(x, y,\n\u001b[0;32m    214\u001b[0m                                             \u001b[0msample_weight\u001b[0m\u001b[1;33m=\u001b[0m\u001b[0msample_weight\u001b[0m\u001b[1;33m,\u001b[0m\u001b[1;33m\u001b[0m\u001b[1;33m\u001b[0m\u001b[0m\n\u001b[1;32m--> 215\u001b[1;33m                                             class_weight=class_weight)\n\u001b[0m\u001b[0;32m    216\u001b[0m \u001b[1;33m\u001b[0m\u001b[0m\n\u001b[0;32m    217\u001b[0m                 \u001b[0mouts\u001b[0m \u001b[1;33m=\u001b[0m \u001b[0mto_list\u001b[0m\u001b[1;33m(\u001b[0m\u001b[0mouts\u001b[0m\u001b[1;33m)\u001b[0m\u001b[1;33m\u001b[0m\u001b[1;33m\u001b[0m\u001b[0m\n",
      "\u001b[1;32m~\\Anaconda3\\envs\\tensorflow\\lib\\site-packages\\keras\\engine\\training.py\u001b[0m in \u001b[0;36mtrain_on_batch\u001b[1;34m(self, x, y, sample_weight, class_weight)\u001b[0m\n\u001b[0;32m   1447\u001b[0m             \u001b[0mins\u001b[0m \u001b[1;33m=\u001b[0m \u001b[0mx\u001b[0m \u001b[1;33m+\u001b[0m \u001b[0my\u001b[0m \u001b[1;33m+\u001b[0m \u001b[0msample_weights\u001b[0m\u001b[1;33m\u001b[0m\u001b[1;33m\u001b[0m\u001b[0m\n\u001b[0;32m   1448\u001b[0m         \u001b[0mself\u001b[0m\u001b[1;33m.\u001b[0m\u001b[0m_make_train_function\u001b[0m\u001b[1;33m(\u001b[0m\u001b[1;33m)\u001b[0m\u001b[1;33m\u001b[0m\u001b[1;33m\u001b[0m\u001b[0m\n\u001b[1;32m-> 1449\u001b[1;33m         \u001b[0moutputs\u001b[0m \u001b[1;33m=\u001b[0m \u001b[0mself\u001b[0m\u001b[1;33m.\u001b[0m\u001b[0mtrain_function\u001b[0m\u001b[1;33m(\u001b[0m\u001b[0mins\u001b[0m\u001b[1;33m)\u001b[0m\u001b[1;33m\u001b[0m\u001b[1;33m\u001b[0m\u001b[0m\n\u001b[0m\u001b[0;32m   1450\u001b[0m         \u001b[1;32mreturn\u001b[0m \u001b[0munpack_singleton\u001b[0m\u001b[1;33m(\u001b[0m\u001b[0moutputs\u001b[0m\u001b[1;33m)\u001b[0m\u001b[1;33m\u001b[0m\u001b[1;33m\u001b[0m\u001b[0m\n\u001b[0;32m   1451\u001b[0m \u001b[1;33m\u001b[0m\u001b[0m\n",
      "\u001b[1;32m~\\Anaconda3\\envs\\tensorflow\\lib\\site-packages\\keras\\backend\\tensorflow_backend.py\u001b[0m in \u001b[0;36m__call__\u001b[1;34m(self, inputs)\u001b[0m\n\u001b[0;32m   2983\u001b[0m                     \u001b[1;34m'In order to feed symbolic tensors to a Keras model '\u001b[0m\u001b[1;33m\u001b[0m\u001b[1;33m\u001b[0m\u001b[0m\n\u001b[0;32m   2984\u001b[0m                     'in TensorFlow, you need tensorflow 1.8 or higher.')\n\u001b[1;32m-> 2985\u001b[1;33m             \u001b[1;32mreturn\u001b[0m \u001b[0mself\u001b[0m\u001b[1;33m.\u001b[0m\u001b[0m_legacy_call\u001b[0m\u001b[1;33m(\u001b[0m\u001b[0minputs\u001b[0m\u001b[1;33m)\u001b[0m\u001b[1;33m\u001b[0m\u001b[1;33m\u001b[0m\u001b[0m\n\u001b[0m\u001b[0;32m   2986\u001b[0m \u001b[1;33m\u001b[0m\u001b[0m\n\u001b[0;32m   2987\u001b[0m \u001b[1;33m\u001b[0m\u001b[0m\n",
      "\u001b[1;32m~\\Anaconda3\\envs\\tensorflow\\lib\\site-packages\\keras\\backend\\tensorflow_backend.py\u001b[0m in \u001b[0;36m_legacy_call\u001b[1;34m(self, inputs)\u001b[0m\n\u001b[0;32m   2953\u001b[0m         \u001b[0msession\u001b[0m \u001b[1;33m=\u001b[0m \u001b[0mget_session\u001b[0m\u001b[1;33m(\u001b[0m\u001b[1;33m)\u001b[0m\u001b[1;33m\u001b[0m\u001b[1;33m\u001b[0m\u001b[0m\n\u001b[0;32m   2954\u001b[0m         updated = session.run(fetches=fetches, feed_dict=feed_dict,\n\u001b[1;32m-> 2955\u001b[1;33m                               **self.session_kwargs)\n\u001b[0m\u001b[0;32m   2956\u001b[0m         \u001b[1;32mreturn\u001b[0m \u001b[0mupdated\u001b[0m\u001b[1;33m[\u001b[0m\u001b[1;33m:\u001b[0m\u001b[0mlen\u001b[0m\u001b[1;33m(\u001b[0m\u001b[0mself\u001b[0m\u001b[1;33m.\u001b[0m\u001b[0moutputs\u001b[0m\u001b[1;33m)\u001b[0m\u001b[1;33m]\u001b[0m\u001b[1;33m\u001b[0m\u001b[1;33m\u001b[0m\u001b[0m\n\u001b[0;32m   2957\u001b[0m \u001b[1;33m\u001b[0m\u001b[0m\n",
      "\u001b[1;32m~\\Anaconda3\\envs\\tensorflow\\lib\\site-packages\\tensorflow\\python\\client\\session.py\u001b[0m in \u001b[0;36mrun\u001b[1;34m(self, fetches, feed_dict, options, run_metadata)\u001b[0m\n\u001b[0;32m    893\u001b[0m     \u001b[1;32mtry\u001b[0m\u001b[1;33m:\u001b[0m\u001b[1;33m\u001b[0m\u001b[1;33m\u001b[0m\u001b[0m\n\u001b[0;32m    894\u001b[0m       result = self._run(None, fetches, feed_dict, options_ptr,\n\u001b[1;32m--> 895\u001b[1;33m                          run_metadata_ptr)\n\u001b[0m\u001b[0;32m    896\u001b[0m       \u001b[1;32mif\u001b[0m \u001b[0mrun_metadata\u001b[0m\u001b[1;33m:\u001b[0m\u001b[1;33m\u001b[0m\u001b[1;33m\u001b[0m\u001b[0m\n\u001b[0;32m    897\u001b[0m         \u001b[0mproto_data\u001b[0m \u001b[1;33m=\u001b[0m \u001b[0mtf_session\u001b[0m\u001b[1;33m.\u001b[0m\u001b[0mTF_GetBuffer\u001b[0m\u001b[1;33m(\u001b[0m\u001b[0mrun_metadata_ptr\u001b[0m\u001b[1;33m)\u001b[0m\u001b[1;33m\u001b[0m\u001b[1;33m\u001b[0m\u001b[0m\n",
      "\u001b[1;32m~\\Anaconda3\\envs\\tensorflow\\lib\\site-packages\\tensorflow\\python\\client\\session.py\u001b[0m in \u001b[0;36m_run\u001b[1;34m(self, handle, fetches, feed_dict, options, run_metadata)\u001b[0m\n\u001b[0;32m   1126\u001b[0m     \u001b[1;32mif\u001b[0m \u001b[0mfinal_fetches\u001b[0m \u001b[1;32mor\u001b[0m \u001b[0mfinal_targets\u001b[0m \u001b[1;32mor\u001b[0m \u001b[1;33m(\u001b[0m\u001b[0mhandle\u001b[0m \u001b[1;32mand\u001b[0m \u001b[0mfeed_dict_tensor\u001b[0m\u001b[1;33m)\u001b[0m\u001b[1;33m:\u001b[0m\u001b[1;33m\u001b[0m\u001b[1;33m\u001b[0m\u001b[0m\n\u001b[0;32m   1127\u001b[0m       results = self._do_run(handle, final_targets, final_fetches,\n\u001b[1;32m-> 1128\u001b[1;33m                              feed_dict_tensor, options, run_metadata)\n\u001b[0m\u001b[0;32m   1129\u001b[0m     \u001b[1;32melse\u001b[0m\u001b[1;33m:\u001b[0m\u001b[1;33m\u001b[0m\u001b[1;33m\u001b[0m\u001b[0m\n\u001b[0;32m   1130\u001b[0m       \u001b[0mresults\u001b[0m \u001b[1;33m=\u001b[0m \u001b[1;33m[\u001b[0m\u001b[1;33m]\u001b[0m\u001b[1;33m\u001b[0m\u001b[1;33m\u001b[0m\u001b[0m\n",
      "\u001b[1;32m~\\Anaconda3\\envs\\tensorflow\\lib\\site-packages\\tensorflow\\python\\client\\session.py\u001b[0m in \u001b[0;36m_do_run\u001b[1;34m(self, handle, target_list, fetch_list, feed_dict, options, run_metadata)\u001b[0m\n\u001b[0;32m   1342\u001b[0m     \u001b[1;32mif\u001b[0m \u001b[0mhandle\u001b[0m \u001b[1;32mis\u001b[0m \u001b[1;32mNone\u001b[0m\u001b[1;33m:\u001b[0m\u001b[1;33m\u001b[0m\u001b[1;33m\u001b[0m\u001b[0m\n\u001b[0;32m   1343\u001b[0m       return self._do_call(_run_fn, self._session, feeds, fetches, targets,\n\u001b[1;32m-> 1344\u001b[1;33m                            options, run_metadata)\n\u001b[0m\u001b[0;32m   1345\u001b[0m     \u001b[1;32melse\u001b[0m\u001b[1;33m:\u001b[0m\u001b[1;33m\u001b[0m\u001b[1;33m\u001b[0m\u001b[0m\n\u001b[0;32m   1346\u001b[0m       \u001b[1;32mreturn\u001b[0m \u001b[0mself\u001b[0m\u001b[1;33m.\u001b[0m\u001b[0m_do_call\u001b[0m\u001b[1;33m(\u001b[0m\u001b[0m_prun_fn\u001b[0m\u001b[1;33m,\u001b[0m \u001b[0mself\u001b[0m\u001b[1;33m.\u001b[0m\u001b[0m_session\u001b[0m\u001b[1;33m,\u001b[0m \u001b[0mhandle\u001b[0m\u001b[1;33m,\u001b[0m \u001b[0mfeeds\u001b[0m\u001b[1;33m,\u001b[0m \u001b[0mfetches\u001b[0m\u001b[1;33m)\u001b[0m\u001b[1;33m\u001b[0m\u001b[1;33m\u001b[0m\u001b[0m\n",
      "\u001b[1;32m~\\Anaconda3\\envs\\tensorflow\\lib\\site-packages\\tensorflow\\python\\client\\session.py\u001b[0m in \u001b[0;36m_do_call\u001b[1;34m(self, fn, *args)\u001b[0m\n\u001b[0;32m   1348\u001b[0m   \u001b[1;32mdef\u001b[0m \u001b[0m_do_call\u001b[0m\u001b[1;33m(\u001b[0m\u001b[0mself\u001b[0m\u001b[1;33m,\u001b[0m \u001b[0mfn\u001b[0m\u001b[1;33m,\u001b[0m \u001b[1;33m*\u001b[0m\u001b[0margs\u001b[0m\u001b[1;33m)\u001b[0m\u001b[1;33m:\u001b[0m\u001b[1;33m\u001b[0m\u001b[1;33m\u001b[0m\u001b[0m\n\u001b[0;32m   1349\u001b[0m     \u001b[1;32mtry\u001b[0m\u001b[1;33m:\u001b[0m\u001b[1;33m\u001b[0m\u001b[1;33m\u001b[0m\u001b[0m\n\u001b[1;32m-> 1350\u001b[1;33m       \u001b[1;32mreturn\u001b[0m \u001b[0mfn\u001b[0m\u001b[1;33m(\u001b[0m\u001b[1;33m*\u001b[0m\u001b[0margs\u001b[0m\u001b[1;33m)\u001b[0m\u001b[1;33m\u001b[0m\u001b[1;33m\u001b[0m\u001b[0m\n\u001b[0m\u001b[0;32m   1351\u001b[0m     \u001b[1;32mexcept\u001b[0m \u001b[0merrors\u001b[0m\u001b[1;33m.\u001b[0m\u001b[0mOpError\u001b[0m \u001b[1;32mas\u001b[0m \u001b[0me\u001b[0m\u001b[1;33m:\u001b[0m\u001b[1;33m\u001b[0m\u001b[1;33m\u001b[0m\u001b[0m\n\u001b[0;32m   1352\u001b[0m       \u001b[0mmessage\u001b[0m \u001b[1;33m=\u001b[0m \u001b[0mcompat\u001b[0m\u001b[1;33m.\u001b[0m\u001b[0mas_text\u001b[0m\u001b[1;33m(\u001b[0m\u001b[0me\u001b[0m\u001b[1;33m.\u001b[0m\u001b[0mmessage\u001b[0m\u001b[1;33m)\u001b[0m\u001b[1;33m\u001b[0m\u001b[1;33m\u001b[0m\u001b[0m\n",
      "\u001b[1;32m~\\Anaconda3\\envs\\tensorflow\\lib\\site-packages\\tensorflow\\python\\client\\session.py\u001b[0m in \u001b[0;36m_run_fn\u001b[1;34m(session, feed_dict, fetch_list, target_list, options, run_metadata)\u001b[0m\n\u001b[0;32m   1327\u001b[0m           return tf_session.TF_Run(session, options,\n\u001b[0;32m   1328\u001b[0m                                    \u001b[0mfeed_dict\u001b[0m\u001b[1;33m,\u001b[0m \u001b[0mfetch_list\u001b[0m\u001b[1;33m,\u001b[0m \u001b[0mtarget_list\u001b[0m\u001b[1;33m,\u001b[0m\u001b[1;33m\u001b[0m\u001b[1;33m\u001b[0m\u001b[0m\n\u001b[1;32m-> 1329\u001b[1;33m                                    status, run_metadata)\n\u001b[0m\u001b[0;32m   1330\u001b[0m \u001b[1;33m\u001b[0m\u001b[0m\n\u001b[0;32m   1331\u001b[0m     \u001b[1;32mdef\u001b[0m \u001b[0m_prun_fn\u001b[0m\u001b[1;33m(\u001b[0m\u001b[0msession\u001b[0m\u001b[1;33m,\u001b[0m \u001b[0mhandle\u001b[0m\u001b[1;33m,\u001b[0m \u001b[0mfeed_dict\u001b[0m\u001b[1;33m,\u001b[0m \u001b[0mfetch_list\u001b[0m\u001b[1;33m)\u001b[0m\u001b[1;33m:\u001b[0m\u001b[1;33m\u001b[0m\u001b[1;33m\u001b[0m\u001b[0m\n",
      "\u001b[1;31mKeyboardInterrupt\u001b[0m: "
     ]
    }
   ],
   "source": [
    "#res 200x200\n",
    "history=model.fit(train,epochs=10,validation_data=(val),callbacks=[learning_rate_reduction])"
   ]
  },
  {
   "cell_type": "code",
   "execution_count": 12,
   "metadata": {},
   "outputs": [
    {
     "name": "stdout",
     "output_type": "stream",
     "text": [
      "63/63 [==============================] - 144s 2s/step\n",
      "Loss = 0.9376763094084536\n",
      "Test Accuracy = 0.6435346979233127\n"
     ]
    }
   ],
   "source": [
    "#original model res 227x227 with input shape=227x227x3\n",
    "preds = model.evaluate(test)\n",
    "print (\"Loss = \" + str(preds[0]))\n",
    "print (\"Test Accuracy = \" + str(preds[1]))\n",
    "model.save(\"NewCNNmodel.h5\")"
   ]
  },
  {
   "cell_type": "code",
   "execution_count": 13,
   "metadata": {},
   "outputs": [
    {
     "name": "stdout",
     "output_type": "stream",
     "text": [
      "63/63 [==============================] - 203s 3s/step\n",
      "Loss = 0.8497415811373957\n",
      "Test Accuracy = 0.6804792811974132\n"
     ]
    }
   ],
   "source": [
    "#After adding layers to the model(res 227x227 with input shape=227x227x3)\n",
    "preds = model.evaluate(test)\n",
    "print (\"Loss = \" + str(preds[0]))\n",
    "print (\"Test Accuracy = \" + str(preds[1]))\n",
    "model.save(\"NewCNNmodel.h5\")"
   ]
  },
  {
   "cell_type": "code",
   "execution_count": 21,
   "metadata": {},
   "outputs": [
    {
     "name": "stdout",
     "output_type": "stream",
     "text": [
      "63/63 [==============================] - 145s 2s/step\n",
      "Loss = 0.829549308306446\n",
      "Test Accuracy = 0.6904643036637137\n"
     ]
    }
   ],
   "source": [
    "#After adding learning rate reduction to the model(res 227x227 with input shape=227x227x3)\n",
    "preds = model.evaluate(test)\n",
    "print (\"Loss = \" + str(preds[0]))\n",
    "print (\"Test Accuracy = \" + str(preds[1]))\n",
    "model.save(\"NewCNNmodel2.h5\")"
   ]
  },
  {
   "cell_type": "code",
   "execution_count": 13,
   "metadata": {},
   "outputs": [
    {
     "name": "stdout",
     "output_type": "stream",
     "text": [
      "63/63 [==============================] - 155s 2s/step\n",
      "Loss = 0.7381835208198635\n",
      "Test Accuracy = 0.7114328508429448\n"
     ]
    }
   ],
   "source": [
    "#After adding additional layers and learning rate reduction to the model(res 227x227 with input shape=227x227x3)\n",
    "preds = model.evaluate(test)\n",
    "print (\"Loss = \" + str(preds[0]))\n",
    "print (\"Test Accuracy = \" + str(preds[1]))\n",
    "model.save(\"NewCNNmodel3.h5\")"
   ]
  },
  {
   "cell_type": "code",
   "execution_count": 23,
   "metadata": {},
   "outputs": [
    {
     "name": "stdout",
     "output_type": "stream",
     "text": [
      "63/63 [==============================] - 80s 1s/step\n",
      "Loss = 0.7732071680125152\n",
      "Test Accuracy = 0.7039440837849157\n"
     ]
    }
   ],
   "source": [
    "#After making resolution 64x64(input shape=64x64x3)\n",
    "preds = model.evaluate(test)\n",
    "print (\"Loss = \" + str(preds[0]))\n",
    "print (\"Test Accuracy = \" + str(preds[1]))\n",
    "model.save(\"NewCNNmodel4.h5\")"
   ]
  },
  {
   "cell_type": "code",
   "execution_count": 24,
   "metadata": {},
   "outputs": [
    {
     "name": "stdout",
     "output_type": "stream",
     "text": [
      "800/800 [==============================] - 522s 652ms/step\n",
      "Loss = 0.5908625448111628\n",
      "Train Accuracy = 0.7735568843436893\n",
      "63/63 [==============================] - 75s 1s/step\n",
      "Loss = 0.8222408749672752\n",
      "Validation Accuracy = 0.6999500747983954\n"
     ]
    }
   ],
   "source": [
    "preds = model.evaluate(train)\n",
    "print (\"Loss = \" + str(preds[0]))\n",
    "print (\"Train Accuracy = \" + str(preds[1]))\n",
    "\n",
    "\n",
    "preds = model.evaluate(val)\n",
    "print (\"Loss = \" + str(preds[0]))\n",
    "print (\"Validation Accuracy = \" + str(preds[1]))"
   ]
  },
  {
   "cell_type": "code",
   "execution_count": 12,
   "metadata": {},
   "outputs": [
    {
     "name": "stdout",
     "output_type": "stream",
     "text": [
      "63/63 [==============================] - 94s 1s/step\n",
      "Loss = 0.7654281664775481\n",
      "Test Accuracy = 0.7109335997196299\n"
     ]
    }
   ],
   "source": [
    "#res 64x64 and layer\n",
    "preds = model.evaluate(test)\n",
    "print (\"Loss = \" + str(preds[0]))\n",
    "print (\"Test Accuracy = \" + str(preds[1]))\n",
    "model.save(\"NewCNNmodel5.h5\")"
   ]
  },
  {
   "cell_type": "code",
   "execution_count": 13,
   "metadata": {},
   "outputs": [
    {
     "name": "stdout",
     "output_type": "stream",
     "text": [
      "800/800 [==============================] - 609s 761ms/step\n",
      "Loss = 0.5836483474753734\n",
      "Train Accuracy = 0.778520342354367\n",
      "63/63 [==============================] - 78s 1s/step\n",
      "Loss = 0.8190632267588683\n",
      "Validation Accuracy = 0.6914628055532516\n"
     ]
    }
   ],
   "source": [
    "preds = model.evaluate(train)\n",
    "print (\"Loss = \" + str(preds[0]))\n",
    "print (\"Train Accuracy = \" + str(preds[1]))\n",
    "\n",
    "preds = model.evaluate(val)\n",
    "print (\"Loss = \" + str(preds[0]))\n",
    "print (\"Validation Accuracy = \" + str(preds[1]))"
   ]
  },
  {
   "cell_type": "code",
   "execution_count": 17,
   "metadata": {},
   "outputs": [
    {
     "name": "stdout",
     "output_type": "stream",
     "text": [
      "63/63 [==============================] - 90s 1s/step\n",
      "Loss = 0.769958498742184\n",
      "Test Accuracy = 0.7014478280195521\n",
      "800/800 [==============================] - 606s 757ms/step\n",
      "Loss = 0.654131933370611\n",
      "Train Accuracy = 0.7523742525547821\n",
      "63/63 [==============================] - 79s 1s/step\n",
      "Loss = 0.805344389012261\n",
      "Validation Accuracy = 0.6984523216367542\n"
     ]
    }
   ],
   "source": [
    "#res 64x64 and 2 layers\n",
    "preds = model.evaluate(test)\n",
    "print (\"Loss = \" + str(preds[0]))\n",
    "print (\"Test Accuracy = \" + str(preds[1]))\n",
    "model.save(\"NewCNNmodel6.h5\")\n",
    "\n",
    "preds = model.evaluate(train)\n",
    "print (\"Loss = \" + str(preds[0]))\n",
    "print (\"Train Accuracy = \" + str(preds[1]))\n",
    "\n",
    "preds = model.evaluate(val)\n",
    "print (\"Loss = \" + str(preds[0]))\n",
    "print (\"Validation Accuracy = \" + str(preds[1]))"
   ]
  },
  {
   "cell_type": "code",
   "execution_count": 21,
   "metadata": {},
   "outputs": [
    {
     "name": "stdout",
     "output_type": "stream",
     "text": [
      "63/63 [==============================] - 86s 1s/step\n",
      "Loss = 1.0174587926921759\n",
      "Test Accuracy = 0.5986020969588698\n",
      "800/800 [==============================] - 601s 751ms/step\n",
      "Loss = 0.9457063404007143\n",
      "Train Accuracy = 0.6325477781779192\n",
      "63/63 [==============================] - 77s 1s/step\n",
      "Loss = 1.0337580593597633\n",
      "Validation Accuracy = 0.61507738410266\n"
     ]
    }
   ],
   "source": [
    "#res 64x64 and lr=0.0001 with 1 additional layer\n",
    "preds = model.evaluate(test)\n",
    "print (\"Loss = \" + str(preds[0]))\n",
    "print (\"Test Accuracy = \" + str(preds[1]))\n",
    "\n",
    "preds = model.evaluate(train)\n",
    "print (\"Loss = \" + str(preds[0]))\n",
    "print (\"Train Accuracy = \" + str(preds[1]))\n",
    "\n",
    "preds = model.evaluate(val)\n",
    "print (\"Loss = \" + str(preds[0]))\n",
    "print (\"Validation Accuracy = \" + str(preds[1]))"
   ]
  },
  {
   "cell_type": "code",
   "execution_count": 30,
   "metadata": {},
   "outputs": [
    {
     "name": "stdout",
     "output_type": "stream",
     "text": [
      "63/63 [==============================] - 87s 1s/step\n",
      "Loss = 1.8783295696161415\n",
      "Test Accuracy = 0.032451323019196496\n",
      "800/800 [==============================] - 593s 742ms/step\n",
      "Loss = 1.940639707814507\n",
      "Train Accuracy = 0.15515691561655492\n",
      "63/63 [==============================] - 76s 1s/step\n",
      "Loss = 1.8780318330778103\n",
      "Validation Accuracy = 0.032950574138791815\n"
     ]
    }
   ],
   "source": [
    "#res 64x64 and lr=0.01 with 1 additional layer\n",
    "preds = model.evaluate(test)\n",
    "print (\"Loss = \" + str(preds[0]))\n",
    "print (\"Test Accuracy = \" + str(preds[1]))\n",
    "\n",
    "preds = model.evaluate(train)\n",
    "print (\"Loss = \" + str(preds[0]))\n",
    "print (\"Train Accuracy = \" + str(preds[1]))\n",
    "\n",
    "preds = model.evaluate(val)\n",
    "print (\"Loss = \" + str(preds[0]))\n",
    "print (\"Validation Accuracy = \" + str(preds[1]))"
   ]
  },
  {
   "cell_type": "code",
   "execution_count": 13,
   "metadata": {},
   "outputs": [
    {
     "name": "stdout",
     "output_type": "stream",
     "text": [
      "63/63 [==============================] - 84s 1s/step\n",
      "Loss = 0.7403188546002655\n",
      "Test Accuracy = 0.7169246129911063\n",
      "800/800 [==============================] - 543s 679ms/step\n",
      "Loss = 0.6481208803715495\n",
      "Train Accuracy = 0.7455348419049199\n",
      "63/63 [==============================] - 77s 1s/step\n",
      "Loss = 0.7520092965005578\n",
      "Validation Accuracy = 0.7164253621356105\n"
     ]
    }
   ],
   "source": [
    "#res 64x64 and lr reduction with 1 additional layer\n",
    "preds = model.evaluate(test)\n",
    "print (\"Loss = \" + str(preds[0]))\n",
    "print (\"Test Accuracy = \" + str(preds[1]))\n",
    "model.save(\"NewCNNmodel7.h5\")\n",
    "\n",
    "preds = model.evaluate(train)\n",
    "print (\"Loss = \" + str(preds[0]))\n",
    "print (\"Train Accuracy = \" + str(preds[1]))\n",
    "\n",
    "preds = model.evaluate(val)\n",
    "print (\"Loss = \" + str(preds[0]))\n",
    "print (\"Validation Accuracy = \" + str(preds[1]))"
   ]
  },
  {
   "cell_type": "code",
   "execution_count": 13,
   "metadata": {},
   "outputs": [
    {
     "name": "stdout",
     "output_type": "stream",
     "text": [
      "63/63 [==============================] - 78s 1s/step\n",
      "Loss = 1.2309221189377966\n",
      "Test Accuracy = 0.7533699453501956\n",
      "800/800 [==============================] - 583s 728ms/step\n",
      "Loss = 0.02347335406040856\n",
      "Train Accuracy = 0.9957009418845507\n",
      "63/63 [==============================] - 77s 1s/step\n",
      "Loss = 1.353706168342815\n",
      "Validation Accuracy = 0.745881178143378\n"
     ]
    }
   ],
   "source": [
    "#res 64x64 and lr reduction with 1 additional layer and epochs=20\n",
    "preds = model.evaluate(test)\n",
    "print (\"Loss = \" + str(preds[0]))\n",
    "print (\"Test Accuracy = \" + str(preds[1]))\n",
    "model.save(\"NewCNNmodel8.h5\")\n",
    "\n",
    "preds = model.evaluate(train)\n",
    "print (\"Loss = \" + str(preds[0]))\n",
    "print (\"Train Accuracy = \" + str(preds[1]))\n",
    "\n",
    "preds = model.evaluate(val)\n",
    "print (\"Loss = \" + str(preds[0]))\n",
    "print (\"Validation Accuracy = \" + str(preds[1]))"
   ]
  },
  {
   "cell_type": "code",
   "execution_count": 14,
   "metadata": {},
   "outputs": [
    {
     "data": {
      "text/plain": [
       "Text(0.5, 1.0, 'Training and validation loss')"
      ]
     },
     "execution_count": 14,
     "metadata": {},
     "output_type": "execute_result"
    },
    {
     "data": {
      "image/png": "[encoded data removed]",
      "text/plain": [
       "<Figure size 432x288 with 1 Axes>"
      ]
     },
     "metadata": {
      "needs_background": "light"
     },
     "output_type": "display_data"
    },
    {
     "data": {
      "image/png": "[encoded data removed]",
      "text/plain": [
       "<Figure size 432x288 with 1 Axes>"
      ]
     },
     "metadata": {
      "needs_background": "light"
     },
     "output_type": "display_data"
    }
   ],
   "source": [
    "# Retrieve a list of accuracy results on training and test data\n",
    "# sets for each training epoch\n",
    "acc = history.history['acc']\n",
    "val_acc = history.history['val_acc']\n",
    "\n",
    "# Retrieve a list of list results on training and test data\n",
    "# sets for each training epoch\n",
    "loss = history.history['loss']\n",
    "val_loss = history.history['val_loss']\n",
    "\n",
    "# Get number of epochs\n",
    "epochs = range(len(acc))\n",
    "\n",
    "# Plot training and validation accuracy per epoch\n",
    "plt.plot(epochs, acc)\n",
    "plt.plot(epochs, val_acc)\n",
    "plt.title('Training and validation accuracy')\n",
    "\n",
    "plt.figure()\n",
    "\n",
    "# Plot training and validation loss per epoch\n",
    "plt.plot(epochs, loss)\n",
    "plt.plot(epochs, val_loss)\n",
    "plt.title('Training and validation loss')"
   ]
  },
  {
   "cell_type": "code",
   "execution_count": 19,
   "metadata": {},
   "outputs": [
    {
     "name": "stdout",
     "output_type": "stream",
     "text": [
      "63/63 [==============================] - 71s 1s/step\n",
      "Loss = 0.7589210171254349\n",
      "Test Accuracy = 0.7363954070086962\n",
      "800/800 [==============================] - 596s 745ms/step\n",
      "Loss = 0.2496890701167482\n",
      "Train Accuracy = 0.9149958963699235\n",
      "63/63 [==============================] - 77s 1s/step\n",
      "Loss = 0.8753023774279872\n",
      "Validation Accuracy = 0.7254118820874619\n"
     ]
    }
   ],
   "source": [
    "#res 64x64 with lr reduction and epochs=10\n",
    "preds = model.evaluate(test)\n",
    "print (\"Loss = \" + str(preds[0]))\n",
    "print (\"Test Accuracy = \" + str(preds[1]))\n",
    "model.save(\"NewCNNmodel9.h5\")\n",
    "\n",
    "preds = model.evaluate(train)\n",
    "print (\"Loss = \" + str(preds[0]))\n",
    "print (\"Train Accuracy = \" + str(preds[1]))\n",
    "\n",
    "preds = model.evaluate(val)\n",
    "print (\"Loss = \" + str(preds[0]))\n",
    "print (\"Validation Accuracy = \" + str(preds[1]))"
   ]
  },
  {
   "cell_type": "code",
   "execution_count": 20,
   "metadata": {},
   "outputs": [
    {
     "data": {
      "text/plain": [
       "Text(0.5, 1.0, 'Training and validation loss')"
      ]
     },
     "execution_count": 20,
     "metadata": {},
     "output_type": "execute_result"
    },
    {
     "data": {
      "image/png": "[encoded data removed]",
      "text/plain": [
       "<Figure size 432x288 with 1 Axes>"
      ]
     },
     "metadata": {
      "needs_background": "light"
     },
     "output_type": "display_data"
    },
    {
     "data": {
      "image/png": "[encoded data removed]",
      "text/plain": [
       "<Figure size 432x288 with 1 Axes>"
      ]
     },
     "metadata": {
      "needs_background": "light"
     },
     "output_type": "display_data"
    }
   ],
   "source": [
    "# Retrieve a list of accuracy results on training and test data\n",
    "# sets for each training epoch\n",
    "acc = history.history['acc']\n",
    "val_acc = history.history['val_acc']\n",
    "\n",
    "# Retrieve a list of list results on training and test data\n",
    "# sets for each training epoch\n",
    "loss = history.history['loss']\n",
    "val_loss = history.history['val_loss']\n",
    "\n",
    "# Get number of epochs\n",
    "epochs = range(len(acc))\n",
    "\n",
    "# Plot training and validation accuracy per epoch\n",
    "plt.plot(epochs, acc)\n",
    "plt.plot(epochs, val_acc)\n",
    "plt.title('Training and validation accuracy')\n",
    "\n",
    "plt.figure()\n",
    "\n",
    "# Plot training and validation loss per epoch\n",
    "plt.plot(epochs, loss)\n",
    "plt.plot(epochs, val_loss)\n",
    "plt.title('Training and validation loss')"
   ]
  },
  {
   "cell_type": "code",
   "execution_count": 18,
   "metadata": {},
   "outputs": [
    {
     "name": "stdout",
     "output_type": "stream",
     "text": [
      "63/63 [==============================] - 82s 1s/step\n",
      "Loss = 0.8290021962305336\n",
      "Test Accuracy = 0.6999500748579108\n",
      "800/800 [==============================] - 618s 773ms/step\n",
      "Loss = 0.664186046593782\n",
      "Train Accuracy = 0.7419392660218852\n",
      "63/63 [==============================] - 88s 1s/step\n",
      "Loss = 0.8535366558278732\n",
      "Validation Accuracy = 0.6819770343590544\n"
     ]
    }
   ],
   "source": [
    "#res 64x64, epochs=8, batch_size=64\n",
    "preds = model.evaluate(test)\n",
    "print (\"Loss = \" + str(preds[0]))\n",
    "print (\"Test Accuracy = \" + str(preds[1]))\n",
    "model.save(\"NewCNNmodel10.h5\")\n",
    "\n",
    "preds = model.evaluate(train)\n",
    "print (\"Loss = \" + str(preds[0]))\n",
    "print (\"Train Accuracy = \" + str(preds[1]))\n",
    "\n",
    "preds = model.evaluate(val)\n",
    "print (\"Loss = \" + str(preds[0]))\n",
    "print (\"Validation Accuracy = \" + str(preds[1]))"
   ]
  },
  {
   "cell_type": "code",
   "execution_count": 16,
   "metadata": {},
   "outputs": [
    {
     "name": "stdout",
     "output_type": "stream",
     "text": [
      "63/63 [==============================] - 107s 2s/step\n",
      "Loss = 1.7503869382964927\n",
      "Test Accuracy = 0.5012481275702261\n",
      "800/800 [==============================] - 695s 869ms/step\n",
      "Loss = 1.8549056660086785\n",
      "Train Accuracy = 0.3078516434033525\n",
      "63/63 [==============================] - 94s 1s/step\n",
      "Loss = 1.7537303945152865\n",
      "Validation Accuracy = 0.5042436343101162\n"
     ]
    }
   ],
   "source": [
    "#res 64x64, lr =0.001, epochs=8, optimiser=SGD\n",
    "preds = model.evaluate(test)\n",
    "print (\"Loss = \" + str(preds[0]))\n",
    "print (\"Test Accuracy = \" + str(preds[1]))\n",
    "\n",
    "preds = model.evaluate(train)\n",
    "print (\"Loss = \" + str(preds[0]))\n",
    "print (\"Train Accuracy = \" + str(preds[1]))\n",
    "\n",
    "preds = model.evaluate(val)\n",
    "print (\"Loss = \" + str(preds[0]))\n",
    "print (\"Validation Accuracy = \" + str(preds[1]))"
   ]
  },
  {
   "cell_type": "code",
   "execution_count": 52,
   "metadata": {},
   "outputs": [
    {
     "name": "stdout",
     "output_type": "stream",
     "text": [
      "63/63 [==============================] - 93s 1s/step\n",
      "Loss = 1.930074174821942\n",
      "Test Accuracy = 0.05192211683220228\n",
      "800/800 [==============================] - 650s 813ms/step\n",
      "Loss = 1.9353098103341033\n",
      "Train Accuracy = 0.1777074295610589\n",
      "63/63 [==============================] - 84s 1s/step\n",
      "Loss = 1.929895028494265\n",
      "Validation Accuracy = 0.05292061907883233\n"
     ]
    }
   ],
   "source": [
    "#res 64x64, lr =0.001, epochs=8, optimiser=Adadelta\n",
    "preds = model.evaluate(test)\n",
    "print (\"Loss = \" + str(preds[0]))\n",
    "print (\"Test Accuracy = \" + str(preds[1]))\n",
    "\n",
    "preds = model.evaluate(train)\n",
    "print (\"Loss = \" + str(preds[0]))\n",
    "print (\"Train Accuracy = \" + str(preds[1]))\n",
    "\n",
    "preds = model.evaluate(val)\n",
    "print (\"Loss = \" + str(preds[0]))\n",
    "print (\"Validation Accuracy = \" + str(preds[1]))"
   ]
  },
  {
   "cell_type": "code",
   "execution_count": 16,
   "metadata": {},
   "outputs": [
    {
     "name": "stdout",
     "output_type": "stream",
     "text": [
      "63/63 [==============================] - 130s 2s/step\n",
      "Loss = 0.9742025939809996\n",
      "Test Accuracy = 0.7139291061024278\n",
      "800/800 [==============================] - 1416s 2s/step\n",
      "Loss = 0.18555590349604462\n",
      "Train Accuracy = 0.9409465744323289\n",
      "63/63 [==============================] - 128s 2s/step\n",
      "Loss = 1.0604962526531858\n",
      "Validation Accuracy = 0.7024463304744859\n"
     ]
    }
   ],
   "source": [
    "#res 200x200(input shape=64x64x3), lr =0.001 and epochs=10\n",
    "preds = model.evaluate(test)\n",
    "print (\"Loss = \" + str(preds[0]))\n",
    "print (\"Test Accuracy = \" + str(preds[1]))\n",
    "model.save(\"NewCNNmodel11.h5\")\n",
    "\n",
    "preds = model.evaluate(train)\n",
    "print (\"Loss = \" + str(preds[0]))\n",
    "print (\"Train Accuracy = \" + str(preds[1]))\n",
    "\n",
    "preds = model.evaluate(val)\n",
    "print (\"Loss = \" + str(preds[0]))\n",
    "print (\"Validation Accuracy = \" + str(preds[1]))"
   ]
  },
  {
   "cell_type": "code",
   "execution_count": null,
   "metadata": {},
   "outputs": [],
   "source": []
  }
 ],
 "metadata": {
  "kernelspec": {
   "display_name": "Python 3",
   "language": "python",
   "name": "python3"
  },
  "language_info": {
   "codemirror_mode": {
    "name": "ipython",
    "version": 3
   },
   "file_extension": ".py",
   "mimetype": "text/x-python",
   "name": "python",
   "nbconvert_exporter": "python",
   "pygments_lexer": "ipython3",
   "version": "3.6.9"
  }
 },
 "nbformat": 4,
 "nbformat_minor": 2
}
